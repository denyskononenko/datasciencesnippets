{
 "cells": [
  {
   "cell_type": "code",
   "execution_count": 78,
   "metadata": {},
   "outputs": [],
   "source": [
    "import numpy as np\n",
    "import matplotlib.pyplot as plt\n",
    "\n",
    "from numpy.random import rand, randint\n"
   ]
  },
  {
   "cell_type": "code",
   "execution_count": 79,
   "metadata": {},
   "outputs": [],
   "source": [
    "def selection(population: list, scores: list, n_rounds: int = 5) -> list:\n",
    "    \"\"\"\n",
    "    Perform torunament selection.\n",
    "    Args:\n",
    "        population: (List[List]) list of binary strings \n",
    "        scores:     (List[Float]) scores of the strings\n",
    "        n_rounds:   (int) number of rounds\n",
    "    Return:\n",
    "        (list) binary string of the best candidate, i.e. selected parent\n",
    "    \"\"\"\n",
    "    parent_index = randint(0, len(population)) # make first random selection\n",
    "\n",
    "    # make n_rounds random selections from the population to perform tournament\n",
    "    for index in randint(0, len(population), n_rounds):\n",
    "        if scores[parent_index] < scores[index]:\n",
    "            parent_index = index\n",
    "    return population[parent_index]\n",
    "\n",
    "def crossover(parent1: str, parent2: str, r_cross: float = 0.8) -> tuple:\n",
    "    \"\"\"\n",
    "    Perform crossover between two parents.\n",
    "    Args:\n",
    "        parent1: (list) binary string of parent\n",
    "        parent2: (list) binary string of parent\n",
    "        r_cross: (float) in [0, 1] crossover rate, i.e. probability of crossover\n",
    "    Return:\n",
    "        (list, list) childs binary strings\n",
    "    \"\"\"\n",
    "    child1 = parent1[:]\n",
    "    child2 = parent2[:]\n",
    "\n",
    "    # does crossover occur\n",
    "    if rand() < r_cross:\n",
    "        # make split point for crossover which lay out of edges \n",
    "        split_point = randint(1, len(parent1) - 2)\n",
    "        child1 = parent1[: split_point] + parent2[split_point :]\n",
    "        child2 = parent1[: split_point] + parent2[split_point :]\n",
    "    return child1, child2\n",
    "\n",
    "def mutation(child: list, r_mut: float = 0.05):\n",
    "    \"\"\"\n",
    "    Perform muntation, i.e. random bit flip.\n",
    "    Args:\n",
    "        child: (list) binary string \n",
    "        r_mut: (float) mutation rate\n",
    "    \"\"\"\n",
    "    #print(\"MUTATION!\")\n",
    "    for i in range(len(child)):\n",
    "        if rand() < r_mut:\n",
    "            child[i] = 1 - child[i]\n",
    "\n",
    "def gen_opt(objective, \n",
    "            population: list, \n",
    "            n_iter: int,\n",
    "            r_cross: float,  \n",
    "            r_mut: float,\n",
    "            n_rounds: int\n",
    "            ): \n",
    "    \"\"\"\n",
    "    Perform genetic optimiaztion of the objective function on the given initial population of binary strings.\n",
    "    Args:\n",
    "        objective: (Callable[String] -> Float) generic objective function of binary string \n",
    "        population: (List[String]) list of binary strings in the initial population \n",
    "        n_iter: (int) number of iterations \n",
    "        r_cross: (float) in [0, 1] probability of the crossover\n",
    "        r_mut: (float) in [0, 1] mutation rate\n",
    "        n_rounds: (int) number of rounds during tournament selection   \n",
    "    \"\"\"\n",
    "    best_score = 0\n",
    "    best_string = None\n",
    "    history = {'scores': [], 'bitstrings': []}\n",
    "\n",
    "    for iter in range(n_iter):\n",
    "        n_pop = len(population)\n",
    "        selected, childs = [], []\n",
    "        scores = [objective(ind) for ind in population]\n",
    "\n",
    "        for i in range(n_pop):\n",
    "            if scores[i] > best_score: \n",
    "                best_score = scores[i]\n",
    "                best_string = population[i]\n",
    "        \n",
    "        # print(f'iter {iter}: best score: {best_score}: {best_string}')\n",
    "        history.get('scores').append(best_score)\n",
    "        history.get('bitstrings').append(best_string)\n",
    "        \n",
    "        for i in range(n_pop):\n",
    "            selected.append(selection(population, scores, n_rounds))\n",
    "        \n",
    "        for j in range(0, n_pop, 2):\n",
    "            tp1, tp2 = selected[j], selected[j + 1]\n",
    "            # crossover\n",
    "            tc1, tc2 = crossover(tp1, tp2, r_cross)\n",
    "            # mutation\n",
    "            mutation(tc1, r_mut)\n",
    "            mutation(tc2, r_mut)\n",
    "\n",
    "            childs.append(tc1)\n",
    "            childs.append(tc2)\n",
    "        \n",
    "        population = childs\n",
    "\n",
    "    return history\n",
    "\n"
   ]
  },
  {
   "cell_type": "code",
   "execution_count": 83,
   "metadata": {},
   "outputs": [],
   "source": [
    "def onemax(bitstr): return sum(bitstr)\n",
    "\n",
    "pop_size, n_bits = 20, 100\n",
    "n_iter = 300\n",
    "r_cross = 0.9\n",
    "r_mut = 0.01\n",
    "r_muts = [0.0001, 0.001, 0.01, 0.1, 0.2, 0.3, 0.4, 0.5]\n",
    "n_rounds = 3\n",
    "\n",
    "init_pop = [randint(0, 2, n_bits).tolist() for _ in range(pop_size)]\n"
   ]
  },
  {
   "cell_type": "code",
   "execution_count": 84,
   "metadata": {},
   "outputs": [],
   "source": [
    "history = gen_opt(onemax, init_pop, n_iter, r_cross, r_mut, n_rounds)"
   ]
  },
  {
   "cell_type": "code",
   "execution_count": 87,
   "metadata": {},
   "outputs": [
    {
     "data": {
      "image/png": "[encoded data removed]",
      "text/plain": [
       "<Figure size 400x400 with 1 Axes>"
      ]
     },
     "metadata": {},
     "output_type": "display_data"
    }
   ],
   "source": [
    "fig, ax = plt.subplots(1, 1, figsize=(4, 4))\n",
    "for tr_mut in r_muts: \n",
    "    history = gen_opt(onemax, init_pop, n_iter, r_cross, tr_mut, n_rounds)\n",
    "    ax.plot(history.get('scores'), label=f\"Mutation = {tr_mut}\")\n",
    "ax.set_xlabel('Iteration')\n",
    "ax.set_ylabel('Score')\n",
    "ax.set_ylim([0, n_bits + 5])\n",
    "ax.legend()\n",
    "plt.show()"
   ]
  },
  {
   "cell_type": "code",
   "execution_count": null,
   "metadata": {},
   "outputs": [],
   "source": []
  },
  {
   "cell_type": "code",
   "execution_count": null,
   "metadata": {},
   "outputs": [],
   "source": []
  }
 ],
 "metadata": {
  "kernelspec": {
   "display_name": "Python 3.10.6 ('ml-vis')",
   "language": "python",
   "name": "python3"
  },
  "language_info": {
   "codemirror_mode": {
    "name": "ipython",
    "version": 3
   },
   "file_extension": ".py",
   "mimetype": "text/x-python",
   "name": "python",
   "nbconvert_exporter": "python",
   "pygments_lexer": "ipython3",
   "version": "3.10.6"
  },
  "orig_nbformat": 4,
  "vscode": {
   "interpreter": {
    "hash": "a3725bb4192e9267f440be4eb175019f0939729b09a1c38af4f9e11cebe2b041"
   }
  }
 },
 "nbformat": 4,
 "nbformat_minor": 2
}
