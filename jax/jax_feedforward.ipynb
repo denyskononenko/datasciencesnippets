{
 "cells": [
  {
   "cell_type": "code",
   "execution_count": 105,
   "metadata": {},
   "outputs": [
    {
     "name": "stdout",
     "output_type": "stream",
     "text": [
      "[ 0 25] <class 'jaxlib.xla_extension.DeviceArray'> (2,)\n",
      "[[3146907547 4106333956]\n",
      " [2100277471   30563927]\n",
      " [1257762895 1502911225]\n",
      " [1339318006 1170020663]]\n"
     ]
    }
   ],
   "source": [
    "import numpy as np \n",
    "\n",
    "import jax\n",
    "import jax.numpy as jnp\n",
    "from jax import grad, jit, vmap, value_and_grad, random\n",
    "from jax.example_libraries import optimizers\n",
    "\n",
    "import matplotlib.pyplot as plt\n",
    "import seaborn as sns\n",
    "\n",
    "from sklearn.datasets import load_digits\n",
    "from sklearn.model_selection import train_test_split\n",
    "\n",
    "from tensorflow.keras.datasets import mnist\n",
    "from tensorflow.keras.utils import to_categorical\n",
    "\n",
    "key = random.PRNGKey(25)\n",
    "keys = random.split(key, 4)\n",
    "\n",
    "print(key, type(key), key.shape)\n",
    "print(keys)"
   ]
  },
  {
   "cell_type": "code",
   "execution_count": 108,
   "metadata": {},
   "outputs": [],
   "source": [
    "@jit\n",
    "def ReLU(y: float):\n",
    "    return jnp.maximum(0, y)\n",
    "\n",
    "@jit \n",
    "def SoftMax(y: jnp.DeviceArray):\n",
    "    return jnp.exp(y) / jnp.sum(jnp.exp(y))\n",
    "\n",
    "@jit\n",
    "def ReLU_layer(W: jnp.DeviceArray, B: jnp.DeviceArray, X: jnp.DeviceArray):\n",
    "    return ReLU(jnp.dot(W, X) + B)\n",
    "\n",
    "@jit \n",
    "def softmax_layer(W: jnp.DeviceArray, B: jnp.DeviceArray, X: jnp.DeviceArray):\n",
    "    return SoftMax(jnp.dot(W, X) + B)\n",
    "\n",
    "def ReLU_vmap(W: jnp.DeviceArray, B: jnp.DeviceArray, X: jnp.DeviceArray):\n",
    "    return jit(vmap(ReLU_layer, in_axes=(None, 0), out_axes=0))\n",
    "\n",
    "def init_mlp(sizes: list, key: jnp.DeviceArray):\n",
    "    \"\"\"Initialize parameters of the multilayer perceptron.\n",
    "    Args:\n",
    "        sizes : (list) list of the nodes in the layers\n",
    "        key   : (DeviceArray) key for random generation of the initial values of parameters\n",
    "    Returns:\n",
    "        (list) of initial parameters\n",
    "    \"\"\"\n",
    "    keys = random.split(key, len(sizes))\n",
    "\n",
    "    def init_layer(n_nodes: int, n_feats: int, key: jnp.DeviceArray):\n",
    "        \"\"\"Initialize parameters of the layer.\n",
    "        Args:\n",
    "            n_nodes : (int) number of nodes in the layer\n",
    "            n_feats : (int) number of input features \n",
    "            key     : (DeviceArray) key for random generation of the initial values of parameters\n",
    "        Returns:\n",
    "            (tuple) : (W: DeviceArray, B: DeviceArray) weights of size (n_nodes, n_feats) and biases of size (n_nodes, )\n",
    "        \"\"\"\n",
    "        w_key, b_key = random.split(key)\n",
    "        # return random.uniform(key=w_key, shape=(n_nodes, n_feats)),\\\n",
    "        #       random.uniform(key=b_key, shape=(n_nodes,))\n",
    "        return np.random.normal(loc=0, scale=2/(n_nodes + n_feats), size=(n_nodes, n_feats)),\\\n",
    "               np.zeros(shape=(n_nodes,))\n",
    "    \n",
    "    return [init_layer(n_nodes, n_feats, k) for n_nodes, n_feats, k in zip(sizes[1:], sizes[:-1], keys)]\n",
    "\n",
    "def passforward_mlp(params: list, inp: jnp.DeviceArray):\n",
    "    \"\"\"Run forward pass of the multilayer perceptron.\n",
    "    Args:\n",
    "        params : (list) list of parameters which corresponds to the MLP model layers\n",
    "        inp    : (jnp.DeviceArray) input vector\n",
    "    \"\"\"\n",
    "    X = inp\n",
    "    # iterate over all layers parameters\n",
    "    for W, B in params[:-1]:\n",
    "        X = ReLU_layer(W, B, X)\n",
    "    \n",
    "    # \n",
    "    fW, fB = params[-1]\n",
    "    res = softmax_layer(fW, fB, X)\n",
    "\n",
    "    #print(X.shape)\n",
    "    #print(fW.shape, fB.shape)\n",
    "    \n",
    "    return res\n",
    "\n",
    "batch_passforward_mlp = vmap(passforward_mlp, in_axes=(None, 0), out_axes=0)\n",
    "\n",
    "def binary_cross_entropy(params: list, X: jnp.DeviceArray, targets: jnp.DeviceArray):\n",
    "    \"\"\"Calculate the binary cross entropy loss function.\n",
    "    Args:\n",
    "        arams   : (list) list of parameters which corresponds to the MLP model layers\n",
    "        X       : (jnp.DeviceArray) input batch \n",
    "        targets : (jnp.DeviceArray) target values on the batch \n",
    "    \"\"\"\n",
    "    predictions = batch_passforward_mlp(params, X)\n",
    "    loss = - jnp.sum(targets * jnp.log(predictions) + (1 - targets) * jnp.log(1 - predictions))\n",
    "    return loss\n",
    "\n",
    "def update_mlp(params: list, X_batch: jnp.DeviceArray, Y_batch: jnp.DeviceArray, opt_state: float):\n",
    "    \"\"\"Update the parameters of the model with back-propagation.\n",
    "    Args: \n",
    "        params        : (list) parameters of the model \n",
    "        X_batch       : (jnp.DeviceArray) input instances on the batch\n",
    "        Y_batch       : (jnp.DeviceArray) output instances on the batch\n",
    "        learning_rate : (float) learning rate for the gradient descent\n",
    "    Returns: \n",
    "\n",
    "    \"\"\"\n",
    "    loss, grad = value_and_grad(binary_cross_entropy, argnums=0)(params, X_batch, Y_batch)\n",
    "    opt_state = opt_update(0, grad, opt_state)\n",
    "    return get_params(opt_state), opt_state, loss\n",
    "    #params_update = jax.tree_map(lambda g: -learning_rate * g, grad)\n",
    "    #params_new    = jax.tree_map(jnp.add, params, params_update)\n",
    "    #return loss, params_new\n",
    "\n",
    "def accuracy(params: list, X: jnp.DeviceArray, targets: jnp.DeviceArray):\n",
    "    predictions = batch_passforward_mlp(params, X)\n",
    "    predictions = predictions.argmax(axis=1)\n",
    "    targets = targets.argmax(axis=1)\n",
    "\n",
    "    true_pred = len(np.argwhere(predictions == targets))\n",
    "    total     = len(targets)\n",
    "    return true_pred / total\n",
    "\n",
    "def make_batches(X, Y, batch_size):\n",
    "    n = len(X)\n",
    "    # shuffle X, Y \n",
    "    indices = np.random.permutation(n)\n",
    "    X, Y = X[indices], Y[indices]\n",
    "    for i in range(0, n, batch_size):\n",
    "        yield X[i : i + batch_size], Y[i : i + batch_size]\n"
   ]
  },
  {
   "cell_type": "code",
   "execution_count": 77,
   "metadata": {},
   "outputs": [],
   "source": [
    "# load data \n",
    "# (x_train, y_train), (x_test, y_test) = mnist.load_data(path=\"mnist.npz\")\n",
    "data = load_digits()\n",
    "X = data.images\n",
    "Y = data.target\n",
    "\n",
    "X = X.reshape([-1, 64]) / np.max(X)\n",
    "Y = to_categorical(Y, num_classes=10)\n",
    "\n",
    "X_train, X_test, Y_train, Y_test = train_test_split(X, Y, train_size=0.8)"
   ]
  },
  {
   "cell_type": "code",
   "execution_count": 74,
   "metadata": {},
   "outputs": [
    {
     "data": {
      "image/png": "[encoded data removed]",
      "text/plain": [
       "<Figure size 750x150 with 5 Axes>"
      ]
     },
     "metadata": {
      "needs_background": "light"
     },
     "output_type": "display_data"
    }
   ],
   "source": [
    "f, axes = plt.subplots(nrows=1, ncols=5, figsize=(5, 1), dpi=150)\n",
    "for i, ax in enumerate(axes.flatten()):\n",
    "    ax.set_title(np.argmax(Y_train[i]), fontsize=12)\n",
    "    ax.imshow(X_train[i].reshape([8, 8]), cmap='gray')\n",
    "    ax.axis('off')\n",
    "\n",
    "plt.show()"
   ]
  },
  {
   "cell_type": "code",
   "execution_count": 69,
   "metadata": {},
   "outputs": [
    {
     "name": "stdout",
     "output_type": "stream",
     "text": [
      "(512, 64) (512,)\n",
      "0.013919415547037097 -0.013563200442957597 0.0 0.0\n",
      "(512, 512) (512,)\n",
      "0.009109267858624214 -0.008827835936286691 0.0 0.0\n",
      "(10, 512) (10,)\n",
      "0.013216896499792432 -0.012905724942719316 0.0 0.0\n"
     ]
    }
   ],
   "source": [
    "t_sizes = [64, 20, 10]\n",
    "t_params = init_mlp(sizes, key=key)\n",
    "for w, b in t_params:\n",
    "    print(w.shape, b.shape)\n",
    "    print(np.max(w), np.min(w), np.max(b), np.min(b))"
   ]
  },
  {
   "cell_type": "code",
   "execution_count": 118,
   "metadata": {},
   "outputs": [
    {
     "name": "stdout",
     "output_type": "stream",
     "text": [
      "iter: 0, loss: 300.4130, train acc: 0.39, test acc: 0.39\n",
      "iter: 1, loss: 180.2887, train acc: 0.73, test acc: 0.73\n",
      "iter: 2, loss: 102.3795, train acc: 0.81, test acc: 0.80\n",
      "iter: 3, loss: 72.9300, train acc: 0.88, test acc: 0.88\n",
      "iter: 4, loss: 59.2734, train acc: 0.91, test acc: 0.90\n",
      "iter: 5, loss: 48.3552, train acc: 0.92, test acc: 0.91\n",
      "iter: 6, loss: 42.4296, train acc: 0.92, test acc: 0.91\n",
      "iter: 7, loss: 40.1504, train acc: 0.94, test acc: 0.91\n",
      "iter: 8, loss: 35.1466, train acc: 0.95, test acc: 0.92\n",
      "iter: 9, loss: 33.3508, train acc: 0.94, test acc: 0.91\n",
      "iter: 10, loss: 30.0370, train acc: 0.95, test acc: 0.94\n",
      "iter: 11, loss: 28.0976, train acc: 0.95, test acc: 0.93\n",
      "iter: 12, loss: 25.7107, train acc: 0.96, test acc: 0.94\n",
      "iter: 13, loss: 23.2968, train acc: 0.97, test acc: 0.94\n",
      "iter: 14, loss: 21.5535, train acc: 0.96, test acc: 0.93\n",
      "iter: 15, loss: 22.2981, train acc: 0.96, test acc: 0.94\n",
      "iter: 16, loss: 21.7804, train acc: 0.97, test acc: 0.94\n",
      "iter: 17, loss: 18.5492, train acc: 0.97, test acc: 0.93\n",
      "iter: 18, loss: 17.9691, train acc: 0.97, test acc: 0.94\n",
      "iter: 19, loss: 17.6067, train acc: 0.97, test acc: 0.93\n"
     ]
    }
   ],
   "source": [
    "sizes = [64, 512, 512, 10]\n",
    "\n",
    "# hyperparameters \n",
    "num_epochs = 20\n",
    "batch_size = 100\n",
    "learning_rate = 0.001\n",
    "iteration = 0\n",
    "\n",
    "params = init_mlp(sizes, key=key)\n",
    "\n",
    "opt_init, opt_update, get_params = optimizers.adam(learning_rate)\n",
    "opt_state = opt_init(params)\n",
    "\n",
    "\n",
    "training_loss_batch = []\n",
    "training_loss_epoch = []\n",
    "acc_train = []\n",
    "acc_test  = []\n",
    "\n",
    "params = get_params(opt_state)\n",
    "\n",
    "for epoch in range(num_epochs):\n",
    "    for X_batch, Y_batch in make_batches(X_train, Y_train, batch_size):\n",
    "        # training step \n",
    "        Y_pred = batch_passforward_mlp(params, X_batch)\n",
    "        params, opt_state, loss = update_mlp(params, X_batch, Y_batch, opt_state)\n",
    "        #loss, params = update_mlp(params, X_batch, Y_batch, learning_rate)\n",
    "\n",
    "        training_loss_batch += [loss]\n",
    "    \n",
    "    ave_training_loss = jnp.mean(jnp.array(training_loss_batch))\n",
    "    training_loss_batch = []\n",
    "\n",
    "    training_loss_epoch += [ave_training_loss]\n",
    "    acc_train += [accuracy(params, X_train, Y_train)]\n",
    "    acc_test  += [accuracy(params, X_test, Y_test)]\n",
    "\n",
    "    print(f'iter: {iteration}, loss: {training_loss_epoch[-1]:.4f}, train acc: {acc_train[-1]:.2f}, test acc: {acc_test[-1]:.2f}')\n",
    "    iteration += 1\n",
    "\n",
    "       \n",
    "        # update the parameters \n",
    "        "
   ]
  },
  {
   "cell_type": "code",
   "execution_count": 121,
   "metadata": {},
   "outputs": [
    {
     "data": {
      "image/png": "[encoded data removed]",
      "text/plain": [
       "<Figure size 432x288 with 2 Axes>"
      ]
     },
     "metadata": {
      "needs_background": "light"
     },
     "output_type": "display_data"
    }
   ],
   "source": [
    "plt.subplot(1, 2, 1)\n",
    "sns.lineplot(x=np.arange(num_epochs), y=np.array(training_loss_epoch), label='loss')\n",
    "\n",
    "plt.subplot(1, 2, 2)\n",
    "sns.lineplot(x=np.arange(num_epochs), y=np.array(acc_train), label='acc train')\n",
    "sns.lineplot(x=np.arange(num_epochs), y=np.array(acc_test), label='acc test')\n",
    "\n",
    "plt.show()"
   ]
  },
  {
   "cell_type": "code",
   "execution_count": null,
   "metadata": {},
   "outputs": [],
   "source": []
  }
 ],
 "metadata": {
  "kernelspec": {
   "display_name": "Python 3.7.10 ('pyml')",
   "language": "python",
   "name": "python3"
  },
  "language_info": {
   "codemirror_mode": {
    "name": "ipython",
    "version": 3
   },
   "file_extension": ".py",
   "mimetype": "text/x-python",
   "name": "python",
   "nbconvert_exporter": "python",
   "pygments_lexer": "ipython3",
   "version": "3.7.10"
  },
  "orig_nbformat": 4,
  "vscode": {
   "interpreter": {
    "hash": "0023d5867f2aad9bc84ffb0b31852b4e1a7609167e65cd879fc2180c31efdcff"
   }
  }
 },
 "nbformat": 4,
 "nbformat_minor": 2
}
