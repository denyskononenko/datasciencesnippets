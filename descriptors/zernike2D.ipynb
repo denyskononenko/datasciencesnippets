{
 "cells": [
  {
   "cell_type": "markdown",
   "source": [
    "# Zernike 2D descriptors \n",
    "\n",
    "\n",
    "\n",
    "### Literature\n",
    "\n",
    "[A. Khotanzad and Y. H. Hong, “Invariant image recognition by Zernike moments”](http://optics.sgu.ru/~ulianov/Bazarova/LASCA_literature/InvariantImageRecognitionZernikeMoments.pdf)\n"
   ],
   "metadata": {}
  },
  {
   "cell_type": "code",
   "execution_count": 1,
   "source": [
    "import numpy as np\n",
    "import matplotlib.pyplot as plt\n",
    "\n",
    "from math import factorial as fact\n",
    "from math import sin, cos, degrees, atan2"
   ],
   "outputs": [],
   "metadata": {}
  },
  {
   "cell_type": "code",
   "execution_count": 100,
   "source": [
    "class Zernike2D:\n",
    "    def __init__(self, IMG: np.array):\n",
    "        self.IMG_init = IMG  # unmodified image for display \n",
    "        self.IMG = np.dot(IMG[...,:3] / 255, [0.2989, 0.5870, 0.1140])  # grayscale image for calculations\n",
    "    \n",
    "    def checknm(self, n: int, m: int):\n",
    "        \"\"\"Chech the correctness of order n and m for Zernike moment.\"\"\"\n",
    "        if n < m: \n",
    "            raise InvalidZernikePolyOrder(f'n={n} and m={m} are invalid, n must be larger than m.')\n",
    "        if (n - m) % 2 != 0:\n",
    "            raise InvalidZernikePolyOrder(f'n={n} and m={m} are invalid, (n - m) must be an even number.')\n",
    "\n",
    "    def radial(self, n: int, m: int) -> ():\n",
    "        \"\"\"Radial Zernike polynomials.\"\"\"\n",
    "        # check input parameters\n",
    "        self.checknm(n, m)\n",
    "        # numeric coeff\n",
    "        N = lambda k: (-1)**k * fact(n - k) / (fact(k) * fact((n + m) / 2 - k) * fact((n - m) / 2 - k))\n",
    "\n",
    "        if (n - m) % 2 != 0: \n",
    "            return lambda r: 0\n",
    "        else:\n",
    "            return lambda r: sum([N(k) * r**(n - 2 * k) for k in range((n - m) // 2 + 1)])\n",
    "    \n",
    "    def moment(self, n: int, m: int) -> ():\n",
    "        \"\"\"Zernike 2D moment, radial + azimuthal part for given order n.\"\"\"\n",
    "        # check input parameters\n",
    "        self.checknm(n, m) \n",
    "        # init radial Zernike polynom of given order\n",
    "        R = self.radial(abs(n), abs(m))\n",
    "        # define the moment function\n",
    "        def A(x, y):\n",
    "            if x**2 + y**2 > 1:\n",
    "                return 0\n",
    "            else:\n",
    "                return R((x**2 + y**2)**0.5) * (sin(abs(m) * atan2(y, x)), cos(abs(m) *  atan2(y, x)))[m >= 0]\n",
    "        return A\n",
    "        # return lambda x, y: (R((x**2 + y**2)**0.5) * (sin(abs(m) * atan2(y, x)), cos(abs(m) *  atan2(y, x)))[m >= 0], 0)[x**2 + y**2 > 1] \n",
    "\n",
    "    def descriptor(self, n: int) -> list:\n",
    "        \"\"\"Make Zernike 2D descriptor for given order n.\"\"\"\n",
    "        vector = []\n",
    "        max_y, max_x = self.IMG.shape[:2] # max_y, max_x must be odd to symmetrically discretize moment\n",
    "        dx = 2 / (max_x - 1)\n",
    "        dy = 2 / (max_y - 1)\n",
    "        # determine grid for moment discretization\n",
    "        x, y = np.arange(-1, 1 + dx, dx), np.arange(-1, 1 + dx, dy)\n",
    "        # determine normalization factor: number of pixel within the unit disk i.e. number of nonzero pixels of moment 0,0\n",
    "        A00 = np.array([[self.moment(0, 0)(xi, yi) for xi in x] for yi in y])\n",
    "        NA00 = np.count_nonzero(A00)\n",
    "\n",
    "        for i in range(n):\n",
    "            for j in range(-i, i + 1, 2):\n",
    "                A = np.array([[self.moment(i, j)(xi, yi) for xi in x] for yi in y])\n",
    "                # plt.imshow(A)\n",
    "                # plt.show()\n",
    "                component = (i, j, (i + 1) * np.sum(self.IMG * A) / NA00)\n",
    "                vector.append(component)\n",
    "\n",
    "        return vector\n",
    "\n",
    "    def reconstruct(self, descriptor: list):\n",
    "        \"\"\"Reconstruct image from the descriptor composed of Zernike moments.\"\"\"\n",
    "        # descriptor [(n, m, Anm)]\n",
    "        max_y, max_x = self.IMG.shape[:2] # max_y, max_x must be odd to symmetrically discretize\n",
    "        dx = 2 / (max_x - 1)\n",
    "        dy = 2 / (max_y - 1)\n",
    "        res = np.zeros((max_y, max_x))\n",
    "\n",
    "        x, y = np.arange(-1, 1 + dx, dx), np.arange(-1, 1 + dy, dy)\n",
    "        \n",
    "        for n, m, coeff in descriptor:\n",
    "            res += coeff * np.array([[self.moment(n, m)(xi, yi) for xi in x] for yi in y]) \n",
    "\n",
    "        plt.figure()\n",
    "        plt.subplot(1,3,1)\n",
    "        plt.imshow(self.IMG_init, cmap='gray')\n",
    "        plt.subplot(1,3,2)\n",
    "        plt.imshow(res, cmap='rainbow')\n",
    "        plt.subplot(1,3,3)\n",
    "        plt.imshow(self.IMG_init, cmap='gray')\n",
    "        plt.imshow(res, cmap='rainbow', alpha=0.6)\n",
    "        plt.show()\n",
    "        \n",
    "    def plot_radial(self, n: int, m: int):\n",
    "        \"\"\"Plot radial Zernike polynom of order n.\"\"\"\n",
    "        R = self.radial(n, m)\n",
    "        x = np.arange(0, 1, 0.01)\n",
    "        y = np.array([R(r) for r in x])\n",
    "\n",
    "        plt.figure()\n",
    "        plt.plot(x, y)\n",
    "        plt.xlim(0, 1.1)\n",
    "        plt.ylabel(f'$R_{n}^{m}(r)$')\n",
    "        plt.xlabel('r')\n",
    "        plt.show()\n",
    "\n",
    "    def plot_moment(self, n: int, m: int):\n",
    "        \"\"\"Plot Zernike 2D moments for given order n.\"\"\"\n",
    "        Z = self.moment(n, m)\n",
    "        d = 0.01\n",
    "        x, y = np.arange(-1, 1 + d, d), np.arange(-1, 1 + d, d)\n",
    "        z = np.array([[Z(xi, yi) for xi in x] for yi in y])\n",
    "        \n",
    "        plt.figure()\n",
    "        plt.imshow(z, cmap='rainbow')\n",
    "        plt.show()\n",
    "    \n",
    "    def test_orthogonality(self, n1: int, m1: int, n2: int, m2: int):\n",
    "        \"\"\"Calculate Zernike descriptor for two moments: (n1,m1), (n2,m2).\"\"\"\n",
    "        Z1 = self.moment(n1, m1)\n",
    "        Z2 = self.moment(n2, m2)\n",
    "\n",
    "        d = 0.005\n",
    "        x, y = np.arange(-1, 1 + d, d), np.arange(-1, 1 + d, d)\n",
    "        # determine normalization factor: number of pixel within the unit disk i.e. number of nonzero pixels of moment 0,0\n",
    "        A00 = np.array([[self.moment(0, 0)(xi, yi) for xi in x] for yi in y])\n",
    "        NA00 = np.count_nonzero(A00)\n",
    "\n",
    "        z1 = np.array([[Z1(xi, yi) for xi in x] for yi in y])\n",
    "        z2 = np.array([[Z2(xi, yi) for xi in x] for yi in y])\n",
    "\n",
    "        print(f'Z_{n1}^{m1} * Z_{n2}^{m2} == {(n1 + 1) * np.sum(z1 * z2) / NA00}')\n",
    "\n",
    "class InvalidZernikePolyOrder(Exception):\n",
    "    pass"
   ],
   "outputs": [],
   "metadata": {}
  },
  {
   "cell_type": "code",
   "execution_count": 112,
   "source": [
    "test_img = plt.imread('imgs/t.jpg')\n",
    "\n",
    "plt.imshow(test_img[:,:,0], cmap='gray')\n",
    "plt.show()"
   ],
   "outputs": [
    {
     "output_type": "display_data",
     "data": {
      "text/plain": [
       "<Figure size 432x288 with 1 Axes>"
      ],
      "image/png": "[encoded data removed]"
     },
     "metadata": {
      "needs_background": "light"
     }
    }
   ],
   "metadata": {}
  },
  {
   "cell_type": "code",
   "execution_count": 114,
   "source": [
    "zen = Zernike2D(test_img)\n",
    "\n",
    "plt.subplot(1,2,1)\n",
    "plt.imshow(zen.IMG_init)\n",
    "plt.subplot(1,2,2)\n",
    "plt.imshow(zen.IMG, cmap='gray')\n",
    "plt.show()\n",
    "\n",
    "# zen.plot_radial(4, 4)\n",
    "# zen.plot_moment(4, 2)\n"
   ],
   "outputs": [
    {
     "output_type": "display_data",
     "data": {
      "text/plain": [
       "<Figure size 432x288 with 2 Axes>"
      ],
      "image/png": "[encoded data removed]"
     },
     "metadata": {
      "needs_background": "light"
     }
    }
   ],
   "metadata": {}
  },
  {
   "cell_type": "code",
   "execution_count": 115,
   "source": [
    "descr = zen.descriptor(15)\n",
    "\n",
    "#for d in descr:\n",
    "#    print(d)"
   ],
   "outputs": [],
   "metadata": {}
  },
  {
   "cell_type": "code",
   "execution_count": 116,
   "source": [
    "zen.reconstruct(descr)"
   ],
   "outputs": [
    {
     "output_type": "display_data",
     "data": {
      "text/plain": [
       "<Figure size 432x288 with 3 Axes>"
      ],
      "image/png": "[encoded data removed]"
     },
     "metadata": {
      "needs_background": "light"
     }
    }
   ],
   "metadata": {}
  },
  {
   "cell_type": "code",
   "execution_count": 69,
   "source": [
    "d = 0.01\n",
    "x, y = np.arange(-1, 1 + d, d), np.arange(-1, 1 + d, d)\n",
    "\n",
    "m00 = np.array([[zen.moment(0, 0)(xi, yi) for xi in x] for yi in y]) # moment 0,0 \n",
    "\n",
    "print(np.count_nonzero(m00) / ((len(x) - 1)/ 2)**2)\n",
    "print(np.pi)\n",
    "\n",
    "# plt.imshow(m00)"
   ],
   "outputs": [
    {
     "output_type": "stream",
     "name": "stdout",
     "text": [
      "3.1403\n",
      "3.141592653589793\n"
     ]
    }
   ],
   "metadata": {}
  },
  {
   "cell_type": "code",
   "execution_count": null,
   "source": [
    "zen.test_orthogonality(2, 0, 2, 0)\n",
    "zen.test_orthogonality(2, 0, 0, 0)\n",
    "zen.test_orthogonality(2, 0, 1, 1)\n",
    "zen.test_orthogonality(2, 0, 3, 1)\n",
    "zen.test_orthogonality(2, 0, 2, 2)\n",
    "zen.test_orthogonality(2, 0, 12, 2)\n"
   ],
   "outputs": [],
   "metadata": {}
  }
 ],
 "metadata": {
  "orig_nbformat": 4,
  "language_info": {
   "name": "python",
   "version": "3.7.8",
   "mimetype": "text/x-python",
   "codemirror_mode": {
    "name": "ipython",
    "version": 3
   },
   "pygments_lexer": "ipython3",
   "nbconvert_exporter": "python",
   "file_extension": ".py"
  },
  "kernelspec": {
   "name": "python3",
   "display_name": "Python 3.7.8 64-bit ('mlenv': conda)"
  },
  "interpreter": {
   "hash": "f1c45f18e9d77bf9f276de58c89a7652989b8a06c102bd2dbfc4bda9f8804f24"
  }
 },
 "nbformat": 4,
 "nbformat_minor": 2
}