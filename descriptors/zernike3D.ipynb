{
 "cells": [
  {
   "cell_type": "markdown",
   "source": [
    "# Zernike 3D \n",
    "\n",
    "Function $f(r, \\theta, \\phi)$ determined in the unit ball can be expanded in the basis of the Zernike 3D functions $Z_{n,l}^{m}(r, \\theta, \\phi)$ with $n, l, n \\in \\mathbb{Z}^{+}$, $n \\geq l, m \\in [-l, l]$ and $n -l$ is even number:\n",
    "\n",
    "$\n",
    "\\begin{align*}\n",
    "f(r, \\theta, \\phi) &= \\sum_{n=0}^{n_\\text{max}} \\sum_{l = mod(n, 2)}^{n_\\text{max}} \\sum_{m = -l}^{l} c_{n, l}^{m} Z_{n,l}^{m}(r, \\theta, \\phi), \\\\\n",
    "Z_{n,l}^{m}(r, \\theta, \\phi) &= R_{n, l}(r) Y_{l}^{m}(\\theta, \\phi), \\\\\n",
    "R_{n, l}(r) &= \\sum_{\\nu = 0}^{(n-l)/2} Q_{l, \\nu} r^{2 \\nu + l}, \\\\\n",
    "Q_{l, \\nu} = \\dfrac{(-1)^{k + \\nu}}{4^{k}} \\sqrt{\\dfrac{2l + 4 k + 3}{3}} \\dfrac{ \\binom{2 k}{k} \\binom{k}{\\nu} \\binom{2 (k + l + \\nu)+1}{2 k} }{\\binom{k + l + \\nu}{k}}\n",
    "\\end{align*}\n",
    "$\n",
    "\n",
    "where $k = (n - l) / 2$ and $c_{n, l}^{m} = 3 \\int_{-1}^{1} \\int_{-1}^{1} \\int_{-1}^{1} f(x, y, z) Z_{n,l}^{m}(x, y, z) \\mathrm{d}x \\mathrm{d}y \\mathrm{d}z / (4 \\pi)$. The transition from spherical to cartesian coordinates was performed as $r = \\sqrt{x^2 + y^2 + z^2}$, $\\theta = \\arctan(\\sqrt{x^2 + y^2} / z)$ and $\\phi = \\arctan{y / x}$.\n",
    "\n",
    "Coeffitients $c_{n, l}^{m}$ characterize geometrical properties of the function $f(\\bullet)$ and are called Zernike 3D moments.\n",
    "\n",
    "In case of $f$ determined on the grid of shape $(N, N, N)$, i.e. 3D image, coeffitients $c_{n, l}^{m}$ reads\n",
    "\n",
    "$\n",
    "\\begin{align*}\n",
    "c_{n, l}^{m} = \\dfrac{1}{N_0} \\sum_{i=1}^{N} \\sum_{j=1}^{N} \\sum_{k=1}^{N} f_{ijk} Z_{n,l}^{m}(2 i/N - 1 , 2 j/N - 1, 2 k/N - 1),\n",
    "\\end{align*}\n",
    "$\n",
    "where $N_0$ is sum of $Z_{0,0}^{0}$ 3D pixels (aka voxels).\n",
    "\n",
    "Note, $c_{n, l}^{m}$ is not invariant with respect to rotations. Rotationally invariant moment can be obtained assembling \n",
    "all $2 l + 1$ harmonics with different $m$ for given $n, l$, i.e.\n",
    "\n",
    "$\n",
    "\\begin{align*}\n",
    "C_{n, l} = \\left\\Vert (c_{n, l}^{-l}, c_{n, l}^{-l+1}, ..., 0, ..., c_{n, l}^{l-1}, c_{n, l}^{l}) \\right\\Vert\n",
    "\\end{align*}\n",
    "$\n",
    "\n",
    "### References\n",
    "\n",
    "[Marcin Novotni and Reinchard Klein, “Shape retrieval using 3D Zernike descriptors”](https://www.sciencedirect.com/science/article/pii/S0010448504000077)\n"
   ],
   "metadata": {}
  },
  {
   "cell_type": "code",
   "execution_count": 247,
   "source": [
    "import numpy as np\n",
    "import matplotlib.pyplot as plt\n",
    "\n",
    "from mayavi import mlab\n",
    "from scipy.special import sph_harm\n",
    "from math import factorial as fact\n",
    "from math import pi, sqrt, sin, cos, atan2\n",
    "from numpy.linalg import norm\n",
    "\n",
    "def binomial(n, k): return fact(n)  / (fact(k) * fact(n - k))"
   ],
   "outputs": [],
   "metadata": {}
  },
  {
   "cell_type": "code",
   "execution_count": 302,
   "source": [
    "class Zernike3D:\n",
    "    def __init__(self, IMG3D: np.array):\n",
    "        self.IMG3D = IMG3D\n",
    "\n",
    "    def radial(self, n: int, l: int) -> ():\n",
    "        \"\"\"Radial Zernike polynomials normalized for 3D case for given order n, l.\"\"\"\n",
    "        # normalization factor\n",
    "        Q = lambda k, l, nu: ((-1)**(k + nu) / 4**k) *\\\n",
    "                             sqrt((2 * l + 4 * k + 3) / 3) *\\\n",
    "                             (binomial(2 * k, k) * binomial(k, nu) * binomial(2 * (k + l + nu) + 1, 2 * k) / binomial(k + l + nu, k))\n",
    "        if (n - l) % 2 != 0: \n",
    "            return lambda r: 0\n",
    "        else:\n",
    "            return lambda r: sum([Q((n - l) / 2, l, nu) * r**(2 * nu + l) for nu in range((n - l) // 2 + 1)]) \n",
    "    \n",
    "    def zfunction(self, n: int, l: int, m: int) -> ():\n",
    "        \"\"\"Zernike 3D function of given order n, l, m.\"\"\"\n",
    "        # check parameters validity\n",
    "        # init radial part\n",
    "        R = self.radial(abs(n), abs(l))\n",
    "        # 3D Zernike function\n",
    "        def Z(x, y, z) -> ():\n",
    "            if x**2 + y**2 + z**2 > 1:\n",
    "                return 0\n",
    "            else:\n",
    "                r = sqrt(x**2 + y**2 + z**2)\n",
    "                theta = atan2(sqrt(x**2 + y**2), z)\n",
    "                phi = atan2(y, x)\n",
    "                return  R(r) * sph_harm(m, l, phi, theta)\n",
    "        return Z\n",
    "\n",
    "    def zfunction_on_grid(self, n: int, l: int, m: int) -> np.array:\n",
    "        \"\"\"Calculate 3D Zernike function on the grid with shape of the given 3D image.\"\"\"\n",
    "        # discretization parameters\n",
    "        max_x, max_y, max_z = self.IMG3D.shape[:3]\n",
    "        dx, dy, dz = 2 / (max_x - 1), 2 / (max_y - 1), 2 / (max_z - 1)\n",
    "        x, y, z = np.arange(-1, 1 + dx, dx), np.arange(-1, 1 + dy, dy), np.arange(-1, 1 + dz, dz) \n",
    "        Z = self.zfunction(n, l, m)\n",
    "        Z_on_grid = np.array([[[np.real(Z(xi, yi, zi)) for xi in x] for yi in y] for zi in z])\n",
    "        return Z_on_grid\n",
    "\n",
    "    def allowed_modes(self, nmax: int) -> list:\n",
    "        \"\"\"Generate list of (n, l, m) allowed modes for given maximum order of n: nmax.\"\"\"\n",
    "        return [(n, l, m) for n in range(nmax + 1) for l in range(nmax + 1) for m in range(-l, l+1) if (n - l) % 2 == 0 and n >= l]\n",
    "\n",
    "    def descriptor(self, nmax: int) -> list:\n",
    "        \"\"\"Zernike 3D descriptor vector of given order for 3D image.\"\"\"\n",
    "        # determine the Zernike functions on the grid of the given 3D image\n",
    "        vector = []\n",
    "        # calculate the normalization factor: number of pixels in the unit sphere, i.e. mode 0,0,0\n",
    "        norm_factor = np.sum(np.real(self.zfunction_on_grid(0,0,0)))\n",
    "        # calculate allowed modes for given n\n",
    "        allowed_modes = self.allowed_modes(nmax)\n",
    "        \n",
    "        for ni, li, mi in allowed_modes:\n",
    "            # calculation of the 3D Zernike function on the grid \n",
    "            A = self.zfunction_on_grid(ni, li, mi) # <- most computationally comlex part\n",
    "            component = np.sum(A * self.IMG3D) / norm_factor\n",
    "            vector.append((ni, li, mi, component))\n",
    "        return vector\n",
    "\n",
    "    def invariant_descriptor(self, nmax: int) -> list:\n",
    "        \"\"\"Rotationally invariant Zernike 3D descriptor.\"\"\"\n",
    "        # agregate all m harmonics with n,l into vector\n",
    "        # calculate norm of the vector to get the invariant descriptor of 3D image \n",
    "        descriptor = self.descriptor(nmax)\n",
    "        descriptor_ri = [ [descriptor[0][0], descriptor[0][1], [descriptor[0][3]]] ]\n",
    "        # assemble vectors [[n,l, A], ...], where A composed of Znlm with m = [-l, l]\n",
    "        for n, l, m, Z in descriptor[1:]:\n",
    "            prev_n, prev_l = descriptor_ri[-1][:2]\n",
    "            if n == prev_n and l == prev_l:\n",
    "                descriptor_ri[-1][2] += [Z]\n",
    "            else:\n",
    "                descriptor_ri.append([n, l, [Z]])\n",
    "        # calculate norm of A vectors \n",
    "        descriptor_ri_norm = [(n, l, norm(Z)) for n, l, Z in descriptor_ri]\n",
    "        return descriptor_ri_norm\n",
    "\n",
    "    def reconstruct(self, descriptor: list, add_img3d: bool=False) -> np.array:\n",
    "        \"\"\"Reconstruct given 3D image from descriptor composed of Zernike 3D moments.\"\"\"\n",
    "        res = np.zeros(self.IMG3D.shape[:3])\n",
    "\n",
    "        for n, l, m, coeff in descriptor:\n",
    "            res += coeff * self.zfunction_on_grid(n, l, m)\n",
    "        return res\n",
    "        \n",
    "    def plot_radial(self, n: int, l: int):\n",
    "        \"\"\"Plot radial Zernike polynom of order n.\"\"\"\n",
    "        R = self.radial(n, l)\n",
    "        x = np.arange(0, 1, 0.01)\n",
    "        y = np.array([R(r) for r in x])\n",
    "\n",
    "        plt.figure(dpi=100)\n",
    "        plt.plot(x, y)\n",
    "        plt.xlim(0, 1.1)\n",
    "        plt.ylabel(f'$R_{n}^{l}(r)$')\n",
    "        plt.xlabel('r')\n",
    "        plt.show()\n",
    "\n",
    "    def plot_zfunction_slice(self, n: int, l: int, m: int, lattitude: int=1):\n",
    "        \"\"\"Plot 3D Zernike moment slice at the level lattitude * grid_step.\"\"\"\n",
    "        Z = self.zfunction(n, l, m)\n",
    "        d = 0.01\n",
    "        x = np.concatenate([np.arange(-1, -d, d), np.arange(d, 1 + d, d)])\n",
    "        cut_const_z = np.array([[np.real(Z(xi, yi, lattitude * d)) for xi in x] for yi in x])\n",
    "        cut_const_x = np.array([[np.real(Z(lattitude * d, yi, zi)) for zi in x] for yi in x])\n",
    "\n",
    "        plt.figure(dpi=100)\n",
    "        plt.subplot(1,2,1)\n",
    "        plt.imshow(cut_const_z, cmap='rainbow')\n",
    "        plt.tick_params(top=False, bottom=False, left=False, right=False, labelleft=False, labelbottom=False)\n",
    "        plt.title('xy')\n",
    "\n",
    "        plt.subplot(1,2,2)\n",
    "        plt.imshow(cut_const_x, cmap='rainbow')\n",
    "        plt.tick_params(top=False, bottom=False, left=False, right=False, labelleft=False, labelbottom=False)\n",
    "        plt.title('zy')\n",
    "        plt.show()\n",
    "\n",
    "    def plot_zfunction_3d(self, n: int, l: int, m: int, add_img3d: bool=False):\n",
    "        \"\"\"Plot 3D zernike moment in 3D as density plot.\"\"\"\n",
    "        # calculate 3D Zernike function on the grid\n",
    "        mode = self.zfunction_on_grid(n, l, m) \n",
    "        mode = np.abs(mode)\n",
    "        # mode[mode != 0] +=  np.abs(np.min(mode))\n",
    "        \n",
    "        mlab.pipeline.volume(mlab.pipeline.scalar_field(mode), vmin=0, vmax=0.8 * np.max(mode))\n",
    "        if add_img3d:\n",
    "            mlab.pipeline.volume(mlab.pipeline.scalar_field(self.IMG3D))\n",
    "        mlab.axes()\n",
    "        mlab.show()\n",
    "\n",
    "    def plot_img3d(self):\n",
    "        \"\"\"Plot voxelized 3D image.\"\"\"\n",
    "        mlab.pipeline.volume(mlab.pipeline.scalar_field(self.IMG3D))\n",
    "        mlab.axes()\n",
    "        mlab.show()\n",
    "    \n",
    "    def plot_denisty_plot_3d(self, func_on_grid: np.array, add_img3d: bool=False):\n",
    "        \"\"\"Plot 3D density plot of arbitrary function on grid.\"\"\"\n",
    "        mlab.pipeline.volume(mlab.pipeline.scalar_field(func_on_grid), vmin=0, vmax=0.8 * np.max(func_on_grid))\n",
    "        if add_img3d:\n",
    "            mlab.pipeline.volume(mlab.pipeline.scalar_field(self.IMG3D))\n",
    "        mlab.axes()\n",
    "        mlab.show()\n",
    "\n",
    "def make_3D_img_from_spheres(spheres: list, val: float=1, ds: float=0.1):\n",
    "    \"\"\"Make 3D image from spheres: (x,y,z,r).\"\"\"\n",
    "    smpl = np.arange(-1, 1 + ds, ds)\n",
    "    N = smpl.shape[0]\n",
    "    grid = np.zeros((N, N, N))\n",
    "\n",
    "    for xi, yi, zi, ri in spheres:\n",
    "        for i, x in enumerate(smpl):\n",
    "            for j, y in enumerate(smpl):\n",
    "                for k, z in enumerate(smpl):\n",
    "                    if (x - xi)**2 + (y - yi)**2 + (z - zi)**2 <= ri**2:\n",
    "                        grid[i,j,k] = val\n",
    "    return grid"
   ],
   "outputs": [],
   "metadata": {}
  },
  {
   "cell_type": "code",
   "execution_count": 303,
   "source": [
    "test_structure1 = [(0, 0, 0, 0.2)]\n",
    "test_structure2 = [(0.5, 0, 0, 0.2), (-0.5, 0, 0, 0.2), (0,0.5,0,0.3), (0,-0.5,0,0.3)] \n",
    "\n",
    "test_3d_image = make_3D_img_from_spheres(test_structure2, ds=0.05)\n",
    "\n",
    "zen = Zernike3D(test_3d_image)\n"
   ],
   "outputs": [],
   "metadata": {}
  },
  {
   "cell_type": "code",
   "execution_count": 304,
   "source": [
    "zen.plot_img3d()\n",
    "#zen.plot_radial(1, 1)"
   ],
   "outputs": [],
   "metadata": {}
  },
  {
   "cell_type": "code",
   "execution_count": 301,
   "source": [
    "zen.plot_zfunction_slice(4, 2, 2, 1)\n"
   ],
   "outputs": [
    {
     "output_type": "display_data",
     "data": {
      "text/plain": [
       "<Figure size 600x400 with 2 Axes>"
      ],
      "image/png": "[encoded data removed]"
     },
     "metadata": {}
    }
   ],
   "metadata": {}
  },
  {
   "cell_type": "code",
   "execution_count": 210,
   "source": [
    "zen.plot_zfunction_3d(4,0,0,add_img3d=True)\n"
   ],
   "outputs": [],
   "metadata": {}
  },
  {
   "cell_type": "code",
   "execution_count": 287,
   "source": [
    "descriptor = zen.descriptor(10)\n",
    "\n",
    "print(f'Total number of descriptor components: {len(descriptor)}')\n",
    "#for _ in descriptor:\n",
    "#    print(_)"
   ],
   "outputs": [
    {
     "output_type": "stream",
     "name": "stdout",
     "text": [
      "Total number of descriptor components: 455\n"
     ]
    }
   ],
   "metadata": {}
  },
  {
   "cell_type": "code",
   "execution_count": 292,
   "source": [
    "reconstrucuted_IMG3D = zen.reconstruct(descriptor, add_img3d=True)"
   ],
   "outputs": [],
   "metadata": {}
  },
  {
   "cell_type": "code",
   "execution_count": 293,
   "source": [
    "zen.plot_denisty_plot_3d(reconstrucuted_IMG3D)"
   ],
   "outputs": [],
   "metadata": {}
  },
  {
   "cell_type": "markdown",
   "source": [
    "## Test orthogonality"
   ],
   "metadata": {}
  },
  {
   "cell_type": "code",
   "execution_count": 286,
   "source": [
    "moment = lambda n1, l1, m1, n2, l2, m2: np.sum(np.real(zen.zfunction_on_grid(n1, l1, m1)) * np.real(zen.zfunction_on_grid(n2, l2, m2))) / np.sum(np.real(zen.zfunction_on_grid(0,0,0)))\n",
    "modes = zen.allowed_modes(1)\n",
    "\n",
    "\n",
    "print('n1\\tl1\\tm1\\tn2\\tl2\\tm2\\tRe[Zn1l1m1] * Re[Zn2l2m2]')\n",
    "for n1, l1, m1 in modes:\n",
    "    for n2, l2, m2 in modes:\n",
    "        print(f'{n1}\\t{l1}\\t{m1}\\t{n2}\\t{l2}\\t{m2}\\t{moment(n1,l1,m1,n2,l2,m2)}')\n"
   ],
   "outputs": [
    {
     "output_type": "stream",
     "name": "stdout",
     "text": [
      "n1\tl1\tm1\tn2\tl2\tm2\tRe[Zn1l1m1] * Re[Zn2l2m2]\n",
      "0\t0\t0\t0\t0\t0\t0.2820947917738781\n",
      "0\t0\t0\t1\t1\t-1\t-5.0776450279566904e-05\n",
      "0\t0\t0\t1\t1\t0\t-7.180874463451429e-05\n",
      "0\t0\t0\t1\t1\t1\t5.0776450279566904e-05\n",
      "1\t1\t-1\t0\t0\t0\t-5.0776450279566904e-05\n",
      "1\t1\t-1\t1\t1\t-1\t0.1406804106762509\n",
      "1\t1\t-1\t1\t1\t0\t2.86836870270652e-05\n",
      "1\t1\t-1\t1\t1\t1\t-0.1406804106762509\n",
      "1\t1\t0\t0\t0\t0\t-7.180874463451429e-05\n",
      "1\t1\t0\t1\t1\t-1\t2.86836870270652e-05\n",
      "1\t1\t0\t1\t1\t0\t0.2813608213525018\n",
      "1\t1\t0\t1\t1\t1\t-2.86836870270652e-05\n",
      "1\t1\t1\t0\t0\t0\t5.0776450279566904e-05\n",
      "1\t1\t1\t1\t1\t-1\t-0.1406804106762509\n",
      "1\t1\t1\t1\t1\t0\t-2.86836870270652e-05\n",
      "1\t1\t1\t1\t1\t1\t0.1406804106762509\n",
      "\n"
     ]
    }
   ],
   "metadata": {}
  },
  {
   "cell_type": "markdown",
   "source": [
    "## Test rotational invariance"
   ],
   "metadata": {}
  },
  {
   "cell_type": "code",
   "execution_count": 264,
   "source": [
    "test_structure_rot = [(0.5, 0, 0, 0.2), (-0.5, 0, 0, 0.2)]\n",
    "test_structure_rot90 = [(0, 0.5, 0, 0.2), (0, -0.5, 0, 0.2)] \n",
    "test_structure_rot90theta = [(0, 0, 0.5, 0.2), (0, 0, -0.5, 0.2)] \n",
    "\n",
    "test_3d_image_rot = make_3D_img_from_spheres(test_structure_rot, ds=0.05)\n",
    "test_3d_image_rot90 = make_3D_img_from_spheres(test_structure_rot90, ds=0.05)\n",
    "test_3d_image_rot90theta = make_3D_img_from_spheres(test_structure_rot90theta, ds=0.05)\n",
    "\n",
    "zen1 = Zernike3D(test_3d_image_rot)\n",
    "zen2 = Zernike3D(test_3d_image_rot90)\n",
    "zen3 = Zernike3D(test_3d_image_rot90theta)\n"
   ],
   "outputs": [],
   "metadata": {}
  },
  {
   "cell_type": "code",
   "execution_count": 260,
   "source": [
    "zen1.plot_img3d()"
   ],
   "outputs": [],
   "metadata": {}
  },
  {
   "cell_type": "code",
   "execution_count": 258,
   "source": [
    "zen2.plot_img3d()"
   ],
   "outputs": [],
   "metadata": {}
  },
  {
   "cell_type": "code",
   "execution_count": 265,
   "source": [
    "zen3.plot_img3d()"
   ],
   "outputs": [],
   "metadata": {}
  },
  {
   "cell_type": "code",
   "execution_count": 267,
   "source": [
    "ri_desc1 = zen1.invariant_descriptor(2)\n",
    "ri_desc2 = zen2.invariant_descriptor(2)\n",
    "ri_desc3 = zen3.invariant_descriptor(2)\n"
   ],
   "outputs": [],
   "metadata": {}
  },
  {
   "cell_type": "code",
   "execution_count": 294,
   "source": [
    "print(f'n\\tl\\tst1\\t\\t\\tst2\\t\\t\\tst3')\n",
    "for i in range(len(ri_desc1)):\n",
    "    print(f'{ri_desc1[i][0]}\\t{ri_desc1[i][1]}\\t{ri_desc1[i][2]}\\t{ri_desc2[i][2]}\\t{ri_desc3[i][2]}')"
   ],
   "outputs": [
    {
     "output_type": "stream",
     "name": "stdout",
     "text": [
      "n\tl\tst1\t\t\tst2\t\t\tst3\n",
      "0\t0\t0.015218693828639903\t0.015218693828639903\t0.015218693828639907\n",
      "1\t1\t3.789427993007622e-05\t3.78942799300759e-05\t3.789427993007574e-05\n",
      "2\t0\t0.019002542014483825\t0.019002542014483828\t0.019002542014483828\n",
      "2\t2\t0.012995433865357214\t0.012995433865357215\t0.012995433865357215\n"
     ]
    }
   ],
   "metadata": {}
  },
  {
   "cell_type": "markdown",
   "source": [
    "## Test influence of 3D image voxels values on the expansion coeffitients\n",
    "\n",
    "Value of density, i.e. voxel value influences on the value of the expansion coeffitients."
   ],
   "metadata": {}
  },
  {
   "cell_type": "code",
   "execution_count": 305,
   "source": [
    "test_structure_geom = [(0.5, 0, 0, 0.2), (-0.5, 0, 0, 0.2), (0,0.5,0,0.3), (0,-0.5,0,0.3)] \n",
    "\n",
    "test_3d_image_dens1 = make_3D_img_from_spheres(test_structure_geom, ds=0.05)\n",
    "test_3d_image_dens01 = make_3D_img_from_spheres(test_structure_geom, val=0.1, ds=0.05)\n",
    "\n",
    "zen_dens1 = Zernike3D(test_3d_image_dens1)\n",
    "zen_dens01 = Zernike3D(test_3d_image_dens01)\n"
   ],
   "outputs": [],
   "metadata": {}
  },
  {
   "cell_type": "code",
   "execution_count": 306,
   "source": [
    "zen_dens1.plot_img3d()"
   ],
   "outputs": [],
   "metadata": {}
  },
  {
   "cell_type": "code",
   "execution_count": 308,
   "source": [
    "zen_dens01.plot_zfunction_3d(4, 2, 2, add_img3d=True)"
   ],
   "outputs": [],
   "metadata": {}
  },
  {
   "cell_type": "code",
   "execution_count": 311,
   "source": [
    "descriptor_dens1 = zen_dens1.descriptor(5)\n"
   ],
   "outputs": [],
   "metadata": {}
  },
  {
   "cell_type": "code",
   "execution_count": 312,
   "source": [
    "descriptor_dens01 = zen_dens01.descriptor(5)"
   ],
   "outputs": [],
   "metadata": {}
  },
  {
   "cell_type": "code",
   "execution_count": 320,
   "source": [
    "# rotationally invariant descriptors \n",
    "ri_descriptor_dens1 = zen_dens1.invariant_descriptor(5)"
   ],
   "outputs": [],
   "metadata": {}
  },
  {
   "cell_type": "code",
   "execution_count": 321,
   "source": [
    "ri_descriptor_dens01 = zen_dens01.invariant_descriptor(5)"
   ],
   "outputs": [],
   "metadata": {}
  },
  {
   "cell_type": "code",
   "execution_count": 322,
   "source": [
    "print('n\\tl\\tDens1\\t\\t\\tDens01')\n",
    "for i in range(len(ri_descriptor_dens1)):\n",
    "    print(f'{ri_descriptor_dens1[i][0]}\\t{ri_descriptor_dens1[i][1]}\\t{ri_descriptor_dens1[i][2]}\\t{ri_descriptor_dens01[i][2]}')"
   ],
   "outputs": [
    {
     "output_type": "stream",
     "name": "stdout",
     "text": [
      "n\tl\tDens1\t\t\tDens01\n",
      "0\t0\t0.0695626123427202\t0.006956261234272019\n",
      "1\t1\t0.00026525995951063523\t2.652599595106335e-05\n",
      "2\t0\t0.08052570287618739\t0.00805257028761874\n",
      "2\t2\t0.04136534980872191\t0.004136534980872191\n",
      "3\t1\t0.00045061452833452463\t4.506145283345275e-05\n",
      "3\t3\t0.0002480953584814384\t2.4809535848143837e-05\n",
      "4\t0\t0.013347096958543416\t0.0013347096958543415\n",
      "4\t2\t0.09265904627119834\t0.009265904627119834\n",
      "4\t4\t0.02204635666289009\t0.002204635666289009\n",
      "5\t1\t0.00026355359326303004\t2.635535932630297e-05\n",
      "5\t3\t0.0006869973523802791\t6.869973523802799e-05\n",
      "5\t5\t0.0001741985168601036\t1.7419851686010393e-05\n"
     ]
    }
   ],
   "metadata": {}
  },
  {
   "cell_type": "code",
   "execution_count": 313,
   "source": [
    "print('n\\tl\\tm\\tDens1\\t\\t\\tDens01')\n",
    "for i in range(len(descriptor_dens1)):\n",
    "    print(f'{descriptor_dens1[i][0]}\\t{descriptor_dens1[i][1]}\\t{descriptor_dens1[i][2]}\\t{descriptor_dens1[i][3]}\\t{descriptor_dens01[i][3]}')"
   ],
   "outputs": [
    {
     "output_type": "stream",
     "name": "stdout",
     "text": [
      "n\tl\tm\tDens1\t\t\tDens01\n",
      "0\t0\t0\t0.0695626123427202\t0.006956261234272019\n",
      "1\t1\t-1\t-0.0001326299797553175\t-1.3262997975531754e-05\n",
      "1\t1\t0\t-0.00018756711614723932\t-1.875671161472369e-05\n",
      "1\t1\t1\t0.0001326299797553175\t1.3262997975531754e-05\n",
      "2\t0\t0\t-0.08052570287618739\t-0.00805257028761874\n",
      "2\t2\t-2\t-0.028354453415718236\t-0.0028354453415718236\n",
      "2\t2\t-1\t1.0025884080695399e-05\t1.0025884080695416e-06\n",
      "2\t2\t0\t-0.010155880402651212\t-0.0010155880402651209\n",
      "2\t2\t1\t-1.0025884080695448e-05\t-1.0025884080695361e-06\n",
      "2\t2\t2\t-0.028354453415718243\t-0.0028354453415718244\n",
      "3\t1\t-1\t0.0002464493796380595\t2.4644937963805956e-05\n",
      "3\t1\t0\t0.0002856201318152789\t2.8562013181528343e-05\n",
      "3\t1\t1\t-0.0002464493796380595\t-2.4644937963805956e-05\n",
      "3\t3\t-3\t0.0001295450336498466\t1.2954503364984665e-05\n",
      "3\t3\t-2\t0.00010527178284723237\t1.0527178284723186e-05\n",
      "3\t3\t-1\t9.035819336771634e-06\t9.035819336771681e-07\n",
      "3\t3\t0\t7.523221931799167e-05\t7.523221931799251e-06\n",
      "3\t3\t1\t-9.03581933677162e-06\t-9.035819336771639e-07\n",
      "3\t3\t2\t0.00010527178284723237\t1.0527178284723208e-05\n",
      "3\t3\t3\t-0.00012954503364984667\t-1.295450336498467e-05\n",
      "4\t0\t0\t0.013347096958543416\t0.0013347096958543415\n",
      "4\t2\t-2\t0.06430577982199306\t0.006430577982199306\n",
      "4\t2\t-1\t-1.9103528450791366e-05\t-1.910352845079133e-06\n",
      "4\t2\t0\t0.01775475961451394\t0.0017754759614513947\n",
      "4\t2\t1\t1.9103528450791484e-05\t1.9103528450791352e-06\n",
      "4\t2\t2\t0.06430577982199306\t0.006430577982199306\n",
      "4\t4\t-4\t0.010148690484646986\t0.0010148690484646989\n",
      "4\t4\t-3\t-2.1177173501119793e-05\t-2.1177173501119804e-06\n",
      "4\t4\t-2\t0.007685338498071421\t0.0007685338498071423\n",
      "4\t4\t-1\t-8.004219222175782e-06\t-8.004219222175794e-07\n",
      "4\t4\t0\t0.012724783859097432\t0.001272478385909743\n",
      "4\t4\t1\t8.004219222175782e-06\t8.004219222175783e-07\n",
      "4\t4\t2\t0.00768533849807142\t0.0007685338498071423\n",
      "4\t4\t3\t2.1177173501119742e-05\t2.117717350111979e-06\n",
      "4\t4\t4\t0.01014869048464699\t0.0010148690484646989\n",
      "5\t1\t-1\t-0.00017628240746939955\t-1.762824074693995e-05\n",
      "5\t1\t0\t-8.549574349311105e-05\t-8.54957434931103e-06\n",
      "5\t1\t1\t0.00017628240746939955\t1.762824074693995e-05\n",
      "5\t3\t-3\t-0.00035346909416038855\t-3.5346909416038857e-05\n",
      "5\t3\t-2\t-0.0002855306431158565\t-2.855306431158569e-05\n",
      "5\t3\t-1\t-4.355312591272292e-06\t-4.35531259127226e-07\n",
      "5\t3\t0\t-0.00024288089120500544\t-2.428808912050043e-05\n",
      "5\t3\t1\t4.35531259127231e-06\t4.355312591272378e-07\n",
      "5\t3\t2\t-0.00028553064311585645\t-2.855306431158588e-05\n",
      "5\t3\t3\t0.0003534690941603883\t3.5346909416038857e-05\n",
      "5\t5\t-5\t-7.158592228015925e-05\t-7.1585922280159205e-06\n",
      "5\t5\t-4\t-4.3478659867587166e-05\t-4.347865986758781e-06\n",
      "5\t5\t-3\t-3.278754069128145e-05\t-3.2787540691281463e-06\n",
      "5\t5\t-2\t-5.230294433741001e-05\t-5.230294433741003e-06\n",
      "5\t5\t-1\t-1.9830962874322546e-05\t-1.9830962874322544e-06\n",
      "5\t5\t0\t-8.892396309297236e-05\t-8.892396309297236e-06\n",
      "5\t5\t1\t1.9830962874322563e-05\t1.9830962874322573e-06\n",
      "5\t5\t2\t-5.2302944337410286e-05\t-5.230294433741038e-06\n",
      "5\t5\t3\t3.278754069128147e-05\t3.2787540691281476e-06\n",
      "5\t5\t4\t-4.347865986758689e-05\t-4.347865986758757e-06\n",
      "5\t5\t5\t7.158592228015923e-05\t7.15859222801592e-06\n"
     ]
    }
   ],
   "metadata": {}
  },
  {
   "cell_type": "code",
   "execution_count": 314,
   "source": [
    "reconstrucuted_IMG3D_dens1 = zen.reconstruct(descriptor_dens1, add_img3d=True)\n",
    "\n",
    "reconstrucuted_IMG3D_dens01 = zen.reconstruct(descriptor_dens01, add_img3d=True)"
   ],
   "outputs": [],
   "metadata": {}
  },
  {
   "cell_type": "code",
   "execution_count": 315,
   "source": [
    "zen.plot_denisty_plot_3d(reconstrucuted_IMG3D_dens1)"
   ],
   "outputs": [],
   "metadata": {}
  },
  {
   "cell_type": "code",
   "execution_count": 316,
   "source": [
    "zen.plot_denisty_plot_3d(reconstrucuted_IMG3D_dens01)"
   ],
   "outputs": [],
   "metadata": {}
  },
  {
   "cell_type": "code",
   "execution_count": null,
   "source": [],
   "outputs": [],
   "metadata": {}
  }
 ],
 "metadata": {
  "orig_nbformat": 4,
  "language_info": {
   "name": "python",
   "version": "3.7.10",
   "mimetype": "text/x-python",
   "codemirror_mode": {
    "name": "ipython",
    "version": 3
   },
   "pygments_lexer": "ipython3",
   "nbconvert_exporter": "python",
   "file_extension": ".py"
  },
  "kernelspec": {
   "name": "python3",
   "display_name": "Python 3.7.10 64-bit ('py3D': conda)"
  },
  "interpreter": {
   "hash": "30dd3515be3a345f27343e26aacf45f70256616f529a8c5d7056439a01d3cb8c"
  }
 },
 "nbformat": 4,
 "nbformat_minor": 2
}