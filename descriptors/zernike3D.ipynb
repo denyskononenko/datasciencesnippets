{
 "cells": [
  {
   "cell_type": "markdown",
   "metadata": {},
   "source": [
    "# Zernike 3D \n",
    "\n",
    "Function $f(r, \\theta, \\phi)$ determined in the unit ball can be expanded in the basis of the Zernike 3D functions $Z_{n,l}^{m}(r, \\theta, \\phi)$ with $n, l, n \\in \\mathbb{Z}^{+}$, $n \\geq l, m \\in [-l, l]$ and $n -l$ is even number:\n",
    "\n",
    "$\n",
    "\\begin{align*}\n",
    "f(r, \\theta, \\phi) &= \\sum_{n=0}^{n_\\text{max}} \\sum_{l = mod(n, 2)}^{n_\\text{max}} \\sum_{m = -l}^{l} c_{n, l}^{m} Z_{n,l}^{m}(r, \\theta, \\phi), \\\\\n",
    "Z_{n,l}^{m}(r, \\theta, \\phi) &= R_{n, l}(r) Y_{l}^{m}(\\theta, \\phi), \\\\\n",
    "R_{n, l}(r) &= \\sum_{\\nu = 0}^{(n-l)/2} Q_{l, \\nu} r^{2 \\nu + l}, \\\\\n",
    "Q_{l, \\nu} = \\dfrac{(-1)^{k + \\nu}}{4^{k}} \\sqrt{\\dfrac{2l + 4 k + 3}{3}} \\dfrac{ \\binom{2 k}{k} \\binom{k}{\\nu} \\binom{2 (k + l + \\nu)+1}{2 k} }{\\binom{k + l + \\nu}{k}}\n",
    "\\end{align*}\n",
    "$\n",
    "\n",
    "where $k = (n - l) / 2$ and $c_{n, l}^{m} = 3 \\int_{-1}^{1} \\int_{-1}^{1} \\int_{-1}^{1} f(x, y, z) Z_{n,l}^{m}(x, y, z) \\mathrm{d}x \\mathrm{d}y \\mathrm{d}z / (4 \\pi)$. The transition from spherical to cartesian coordinates was performed as $r = \\sqrt{x^2 + y^2 + z^2}$, $\\theta = \\arctan(\\sqrt{x^2 + y^2} / z)$ and $\\phi = \\arctan{y / x}$.\n",
    "\n",
    "Coeffitients $c_{n, l}^{m}$ characterize geometrical properties of the function $f(\\bullet)$ and are called Zernike 3D moments.\n",
    "\n",
    "In case of $f$ determined on the grid of shape $(N, N, N)$, i.e. 3D image, coeffitients $c_{n, l}^{m}$ reads\n",
    "\n",
    "$\n",
    "\\begin{align*}\n",
    "c_{n, l}^{m} = \\dfrac{1}{N_0} \\sum_{i=1}^{N} \\sum_{j=1}^{N} \\sum_{k=1}^{N} f_{ijk} Z_{n,l}^{m}(2 i/N - 1 , 2 j/N - 1, 2 k/N - 1),\n",
    "\\end{align*}\n",
    "$\n",
    "where $N_0$ is sum of $Z_{0,0}^{0}$ 3D pixels (aka voxels).\n",
    "\n",
    "Note, $c_{n, l}^{m}$ is not invariant with respect to rotations. Rotationally invariant moment can be obtained assembling \n",
    "all $2 l + 1$ harmonics with different $m$ for given $n, l$, i.e.\n",
    "\n",
    "$\n",
    "\\begin{align*}\n",
    "C_{n, l} = \\left\\Vert (c_{n, l}^{-l}, c_{n, l}^{-l+1}, ..., 0, ..., c_{n, l}^{l-1}, c_{n, l}^{l}) \\right\\Vert\n",
    "\\end{align*}\n",
    "$\n",
    "\n",
    "### References\n",
    "\n",
    "[Marcin Novotni and Reinchard Klein, “Shape retrieval using 3D Zernike descriptors”](https://www.sciencedirect.com/science/article/pii/S0010448504000077)\n"
   ]
  },
  {
   "cell_type": "code",
   "execution_count": 6,
   "metadata": {},
   "outputs": [],
   "source": [
    "import numpy as np\n",
    "import matplotlib.pyplot as plt\n",
    "\n",
    "from mayavi import mlab\n",
    "from scipy.special import sph_harm\n",
    "from math import factorial as fact\n",
    "from math import pi, sqrt, sin, cos, atan2\n",
    "from numpy.linalg import norm\n",
    "\n",
    "def binomial(n, k): return fact(n)  / (fact(k) * fact(n - k))"
   ]
  },
  {
   "cell_type": "code",
   "execution_count": 7,
   "metadata": {},
   "outputs": [],
   "source": [
    "class Zernike3D:\n",
    "    def __init__(self, IMG3D: np.array):\n",
    "        self.IMG3D = IMG3D\n",
    "\n",
    "    def radial(self, n: int, l: int) -> ():\n",
    "        \"\"\"Radial Zernike polynomials normalized for 3D case for given order n, l.\"\"\"\n",
    "        # normalization factor\n",
    "        Q = lambda k, l, nu: ((-1)**(k + nu) / 4**k) *\\\n",
    "                             sqrt((2 * l + 4 * k + 3) / 3) *\\\n",
    "                             (binomial(2 * k, k) * binomial(k, nu) * binomial(2 * (k + l + nu) + 1, 2 * k) / binomial(k + l + nu, k))\n",
    "        if (n - l) % 2 != 0: \n",
    "            return lambda r: 0\n",
    "        else:\n",
    "            return lambda r: sum([Q((n - l) / 2, l, nu) * r**(2 * nu + l) for nu in range((n - l) // 2 + 1)]) \n",
    "    \n",
    "    def zfunction(self, n: int, l: int, m: int) -> ():\n",
    "        \"\"\"Zernike 3D function of given order n, l, m.\"\"\"\n",
    "        # check parameters validity\n",
    "        # init radial part\n",
    "        R = self.radial(abs(n), abs(l))\n",
    "        # 3D Zernike function\n",
    "        def Z(x, y, z) -> ():\n",
    "            if x**2 + y**2 + z**2 > 1:\n",
    "                return 0\n",
    "            else:\n",
    "                r = sqrt(x**2 + y**2 + z**2)\n",
    "                theta = atan2(sqrt(x**2 + y**2), z)\n",
    "                phi = atan2(y, x)\n",
    "                return  R(r) * sph_harm(m, l, phi, theta)\n",
    "        return Z\n",
    "\n",
    "    def zfunction_on_grid(self, n: int, l: int, m: int) -> np.array:\n",
    "        \"\"\"Calculate 3D Zernike function on the grid with shape of the given 3D image.\"\"\"\n",
    "        # discretization parameters\n",
    "        max_x, max_y, max_z = self.IMG3D.shape[:3]\n",
    "        dx, dy, dz = 2 / (max_x - 1), 2 / (max_y - 1), 2 / (max_z - 1)\n",
    "        x, y, z = np.arange(-1, 1 + dx, dx), np.arange(-1, 1 + dy, dy), np.arange(-1, 1 + dz, dz) \n",
    "        Z = self.zfunction(n, l, m)\n",
    "        Z_on_grid = np.array([[[np.real(Z(xi, yi, zi)) for xi in x] for yi in y] for zi in z])\n",
    "        return Z_on_grid\n",
    "\n",
    "    def allowed_modes(self, nmax: int) -> list:\n",
    "        \"\"\"Generate list of (n, l, m) allowed modes for given maximum order of n: nmax.\"\"\"\n",
    "        return [(n, l, m) for n in range(nmax + 1) for l in range(nmax + 1) for m in range(-l, l+1) if (n - l) % 2 == 0 and n >= l]\n",
    "\n",
    "    def descriptor(self, nmax: int) -> list:\n",
    "        \"\"\"Zernike 3D descriptor vector of given order for 3D image.\"\"\"\n",
    "        # determine the Zernike functions on the grid of the given 3D image\n",
    "        vector = []\n",
    "        # calculate the normalization factor: number of pixels in the unit sphere, i.e. mode 0,0,0\n",
    "        norm_factor = np.count_nonzero(np.real(self.zfunction_on_grid(0,0,0)))\n",
    "        # calculate allowed modes for given n\n",
    "        allowed_modes = self.allowed_modes(nmax)\n",
    "        \n",
    "        for ni, li, mi in allowed_modes:\n",
    "            # calculation of the 3D Zernike function on the grid \n",
    "            A = self.zfunction_on_grid(ni, li, mi) # <- most computationally comlex part\n",
    "            component = np.sum(A * self.IMG3D) / norm_factor\n",
    "            vector.append((ni, li, mi, component))\n",
    "        return vector\n",
    "\n",
    "    def invariant_descriptor(self, nmax: int) -> list:\n",
    "        \"\"\"Rotationally invariant Zernike 3D descriptor.\"\"\"\n",
    "        # agregate all m harmonics with n,l into vector\n",
    "        # calculate norm of the vector to get the invariant descriptor of 3D image \n",
    "        descriptor = self.descriptor(nmax)\n",
    "        descriptor_ri = [ [descriptor[0][0], descriptor[0][1], [descriptor[0][3]]] ]\n",
    "        # assemble vectors [[n,l, A], ...], where A composed of Znlm with m = [-l, l]\n",
    "        for n, l, m, Z in descriptor[1:]:\n",
    "            prev_n, prev_l = descriptor_ri[-1][:2]\n",
    "            if n == prev_n and l == prev_l:\n",
    "                descriptor_ri[-1][2] += [Z]\n",
    "            else:\n",
    "                descriptor_ri.append([n, l, [Z]])\n",
    "        # calculate norm of A vectors \n",
    "        descriptor_ri_norm = [(n, l, norm(Z)) for n, l, Z in descriptor_ri]\n",
    "        return descriptor_ri_norm\n",
    "\n",
    "    def reconstruct(self, descriptor: list, add_img3d: bool=False) -> np.array:\n",
    "        \"\"\"Reconstruct given 3D image from descriptor composed of Zernike 3D moments.\"\"\"\n",
    "        res = np.zeros(self.IMG3D.shape[:3])\n",
    "\n",
    "        for n, l, m, coeff in descriptor:\n",
    "            res += coeff * self.zfunction_on_grid(n, l, m)\n",
    "        return res\n",
    "        \n",
    "    def plot_radial(self, n: int, l: int):\n",
    "        \"\"\"Plot radial Zernike polynom of order n.\"\"\"\n",
    "        R = self.radial(n, l)\n",
    "        x = np.arange(0, 1, 0.01)\n",
    "        y = np.array([R(r) for r in x])\n",
    "\n",
    "        plt.figure(dpi=100)\n",
    "        plt.plot(x, y)\n",
    "        plt.xlim(0, 1.1)\n",
    "        plt.ylabel(f'$R_{n}^{l}(r)$')\n",
    "        plt.xlabel('r')\n",
    "        plt.show()\n",
    "\n",
    "    def plot_zfunction_slice(self, n: int, l: int, m: int, lattitude: int=1):\n",
    "        \"\"\"Plot 3D Zernike moment slice at the level lattitude * grid_step.\"\"\"\n",
    "        Z = self.zfunction(n, l, m)\n",
    "        d = 0.01\n",
    "        x = np.concatenate([np.arange(-1, -d, d), np.arange(d, 1 + d, d)])\n",
    "        cut_const_z = np.array([[np.real(Z(xi, yi, lattitude * d)) for xi in x] for yi in x])\n",
    "        cut_const_x = np.array([[np.real(Z(lattitude * d, yi, zi)) for zi in x] for yi in x])\n",
    "\n",
    "        plt.figure(dpi=100)\n",
    "        plt.subplot(1,2,1)\n",
    "        plt.imshow(cut_const_z, cmap='rainbow')\n",
    "        plt.tick_params(top=False, bottom=False, left=False, right=False, labelleft=False, labelbottom=False)\n",
    "        plt.title('xy')\n",
    "\n",
    "        plt.subplot(1,2,2)\n",
    "        plt.imshow(cut_const_x, cmap='rainbow')\n",
    "        plt.tick_params(top=False, bottom=False, left=False, right=False, labelleft=False, labelbottom=False)\n",
    "        plt.title('zy')\n",
    "        plt.show()\n",
    "\n",
    "    def plot_zfunction_3d(self, n: int, l: int, m: int, add_img3d: bool=False):\n",
    "        \"\"\"Plot 3D zernike moment in 3D as density plot.\"\"\"\n",
    "        # calculate 3D Zernike function on the grid\n",
    "        mode = self.zfunction_on_grid(n, l, m) \n",
    "        mode = np.abs(mode)\n",
    "        # mode[mode != 0] +=  np.abs(np.min(mode))\n",
    "        \n",
    "        mlab.pipeline.volume(mlab.pipeline.scalar_field(mode), vmin=0, vmax=0.8 * np.max(mode))\n",
    "        if add_img3d:\n",
    "            mlab.pipeline.volume(mlab.pipeline.scalar_field(self.IMG3D))\n",
    "        mlab.axes()\n",
    "        mlab.show()\n",
    "\n",
    "    def plot_img3d(self):\n",
    "        \"\"\"Plot voxelized 3D image.\"\"\"\n",
    "        mlab.pipeline.volume(mlab.pipeline.scalar_field(self.IMG3D))\n",
    "        mlab.axes()\n",
    "        mlab.show()\n",
    "    \n",
    "    def plot_denisty_plot_3d(self, func_on_grid: np.array, add_img3d: bool=False):\n",
    "        \"\"\"Plot 3D density plot of arbitrary function on grid.\"\"\"\n",
    "        mlab.pipeline.volume(mlab.pipeline.scalar_field(func_on_grid), vmin=0, vmax=0.8 * np.max(func_on_grid))\n",
    "        if add_img3d:\n",
    "            mlab.pipeline.volume(mlab.pipeline.scalar_field(self.IMG3D))\n",
    "        mlab.axes()\n",
    "        mlab.show()\n",
    "\n",
    "def make_3D_img_from_spheres(spheres: list, val: float=1, ds: float=0.1):\n",
    "    \"\"\"Make 3D image from spheres: (x,y,z,r).\"\"\"\n",
    "    smpl = np.arange(-1, 1 + ds, ds)\n",
    "    N = smpl.shape[0]\n",
    "    grid = np.zeros((N, N, N))\n",
    "\n",
    "    for xi, yi, zi, ri in spheres:\n",
    "        for i, x in enumerate(smpl):\n",
    "            for j, y in enumerate(smpl):\n",
    "                for k, z in enumerate(smpl):\n",
    "                    if (x - xi)**2 + (y - yi)**2 + (z - zi)**2 <= ri**2:\n",
    "                        grid[i,j,k] = val\n",
    "    return grid"
   ]
  },
  {
   "cell_type": "code",
   "execution_count": 8,
   "metadata": {},
   "outputs": [],
   "source": [
    "test_structure1 = [(0, 0, 0, 0.2)]\n",
    "test_structure2 = [(-0.5, 0, 0, 0.2), (0.5, 0, 0, 0.2)]\n",
    "test_structure3 = [(0.5, 0, 0, 0.2), (-0.5, 0, 0, 0.2), (0,0.5,0,0.3), (0,-0.5,0,0.3)] \n",
    "\n",
    "test_3d_image = make_3D_img_from_spheres(test_structure2, ds=0.05)\n",
    "\n",
    "zen = Zernike3D(test_3d_image)\n"
   ]
  },
  {
   "cell_type": "code",
   "execution_count": 9,
   "metadata": {},
   "outputs": [
    {
     "name": "stdout",
     "output_type": "stream",
     "text": [
      "Total number of voxels: 68921, in sphere: 33380 \n",
      "Ratio: 0.48, pi/6: 0.52\n"
     ]
    }
   ],
   "source": [
    "z00 = np.real(zen.zfunction_on_grid(0,0,0))\n",
    "voxels_total = z00.shape[0] * z00.shape[1] * z00.shape[2]\n",
    "voxels_in_sphere = np.count_nonzero(z00)\n",
    "print(f\"Total number of voxels: {voxels_total}, in sphere: {voxels_in_sphere} \")\n",
    "print(f\"Ratio: {(voxels_in_sphere / voxels_total):.2f}, pi/6: {(np.pi / 6):.2f}\")\n"
   ]
  },
  {
   "cell_type": "code",
   "execution_count": 10,
   "metadata": {},
   "outputs": [],
   "source": [
    "zen.plot_img3d()\n",
    "#zen.plot_radial(1, 1)"
   ]
  },
  {
   "cell_type": "code",
   "execution_count": 11,
   "metadata": {},
   "outputs": [
    {
     "data": {
      "image/png": "[encoded data removed]",
      "text/plain": [
       "<Figure size 600x400 with 2 Axes>"
      ]
     },
     "metadata": {},
     "output_type": "display_data"
    }
   ],
   "source": [
    "zen.plot_zfunction_slice(1, 1, 1, 0.1)\n"
   ]
  },
  {
   "cell_type": "code",
   "execution_count": 29,
   "metadata": {},
   "outputs": [],
   "source": [
    "zen.plot_zfunction_3d(3,3,3,add_img3d=False)\n"
   ]
  },
  {
   "cell_type": "code",
   "execution_count": 13,
   "metadata": {},
   "outputs": [
    {
     "name": "stdout",
     "output_type": "stream",
     "text": [
      "Total number of descriptor components: 286\n"
     ]
    }
   ],
   "source": [
    "descriptor = zen.descriptor(10)\n",
    "\n",
    "print(f'Total number of descriptor components: {len(descriptor)}')\n"
   ]
  },
  {
   "cell_type": "code",
   "execution_count": 14,
   "metadata": {},
   "outputs": [
    {
     "name": "stdout",
     "output_type": "stream",
     "text": [
      "(0, 0, 0, 0.004293114266660578)\n",
      "(1, 1, -1, -5.3448895031480495e-06)\n",
      "(1, 1, 0, -7.558815224737287e-06)\n",
      "(1, 1, 1, 5.3448895031480495e-06)\n",
      "(2, 0, 0, -0.005360518132750186)\n",
      "(2, 2, -2, -3.845702133681358e-21)\n",
      "(2, 2, -1, -5.8205221482744875e-21)\n",
      "(2, 2, 0, 0.0036659442102591477)\n",
      "(2, 2, 1, -9.146534804431337e-21)\n",
      "(2, 2, 2, -1.4291460631923966e-21)\n",
      "(3, 1, -1, 1.0648818808786311e-05)\n",
      "(3, 1, 0, -2.6874219228284495e-06)\n",
      "(3, 1, 1, -1.0648818808786311e-05)\n",
      "(3, 3, -3, -3.4638842931582337e-07)\n",
      "(3, 3, -2, 4.677205297720571e-22)\n",
      "(3, 3, -1, -6.439471766676523e-06)\n",
      "(3, 3, 0, -1.223785957818641e-05)\n",
      "(3, 3, 1, 6.439471766676524e-06)\n",
      "(3, 3, 2, -1.0913479028014665e-21)\n",
      "(3, 3, 3, 3.463884293158233e-07)\n",
      "(4, 0, 0, 0.0011037203054326712)\n",
      "(4, 2, -2, 5.3008326707499794e-21)\n",
      "(4, 2, -1, -3.8249145545803777e-20)\n",
      "(4, 2, 0, -0.009802988587342068)\n",
      "(4, 2, 1, 5.98682278108233e-20)\n",
      "(4, 2, 2, 8.315031640392125e-21)\n",
      "(4, 4, -4, -2.894007113417403e-07)\n",
      "(4, 4, -3, -5.196894775245078e-22)\n",
      "(4, 4, -2, -2.7543542308798914e-21)\n",
      "(4, 4, -1, -1.99560759369411e-20)\n",
      "(4, 4, 0, 0.0015408947308349615)\n",
      "(4, 4, 1, 2.1619082265019526e-20)\n",
      "(4, 4, 2, -5.6905997788933605e-21)\n",
      "(4, 4, 3, -4.1575158201960627e-22)\n",
      "(4, 4, 4, -2.894007113417402e-07)\n",
      "(5, 1, -1, -7.310429171217649e-06)\n",
      "(5, 1, 0, 3.58700935915513e-05)\n",
      "(5, 1, 1, 7.310429171217649e-06)\n",
      "(5, 3, -3, 1.2093720704266549e-06)\n",
      "(5, 3, -2, -4.573267402215669e-21)\n",
      "(5, 3, -1, 2.248261386300388e-05)\n",
      "(5, 3, 0, 2.378333244014056e-05)\n",
      "(5, 3, 1, -2.2482613863003878e-05)\n",
      "(5, 3, 2, 8.315031640392125e-22)\n",
      "(5, 3, 3, -1.2093720704266549e-06)\n",
      "(5, 5, -5, -1.8524495667541574e-08)\n",
      "(5, 5, -4, 3.6378263426715547e-22)\n",
      "(5, 5, -3, -6.765598488381547e-07)\n",
      "(5, 5, -2, 1.0393789550490157e-21)\n",
      "(5, 5, -1, -3.0487732767445923e-06)\n",
      "(5, 5, 0, -9.664543582058688e-06)\n",
      "(5, 5, 1, 3.048773276744596e-06)\n",
      "(5, 5, 2, -7.535497424105364e-22)\n",
      "(5, 5, 3, 6.765598488381549e-07)\n",
      "(5, 5, 4, 3.6378263426715547e-22)\n",
      "(5, 5, 5, 1.8524495667541567e-08)\n",
      "(6, 0, 0, 0.0032770516344822584)\n",
      "(6, 2, -2, -1.7955271448471744e-20)\n",
      "(6, 2, -1, 1.1142142398125448e-19)\n",
      "(6, 2, 0, 0.011478225102121225)\n",
      "(6, 2, 1, -1.1807344929356817e-19)\n",
      "(6, 2, 2, -8.367000588144575e-21)\n",
      "(6, 4, -4, 1.2321325981282475e-06)\n",
      "(6, 4, -3, -5.4047705662548815e-21)\n",
      "(6, 4, -2, 2.66081012492548e-20)\n",
      "(6, 4, -1, 4.323816453003905e-20)\n",
      "(6, 4, 0, -0.005988897877107213)\n",
      "(6, 4, 1, -3.99121518738822e-20)\n",
      "(6, 4, 2, 3.1389244442480274e-20)\n",
      "(6, 4, 3, 7.067776894333306e-21)\n",
      "(6, 4, 4, 1.232132598128247e-06)\n",
      "(6, 6, -6, 6.5341816632109744e-24)\n",
      "(6, 6, -5, -1.9488355407169042e-23)\n",
      "(6, 6, -4, -6.641255428605529e-07)\n",
      "(6, 6, -3, -3.2220747606519485e-21)\n",
      "(6, 6, -2, -4.781143193225472e-21)\n",
      "(6, 6, -1, -1.33040506246274e-20)\n",
      "(6, 6, 0, 0.000538257778799325)\n",
      "(6, 6, 1, 1.6422187489774448e-20)\n",
      "(6, 6, 2, -4.0275934508149356e-21)\n",
      "(6, 6, 3, 3.585857394919104e-21)\n",
      "(6, 6, 4, -6.641255428605531e-07)\n",
      "(6, 6, 5, 3.248059234528174e-23)\n",
      "(6, 6, 6, 7.308133277688392e-24)\n",
      "(7, 1, -1, -3.1854388873840347e-06)\n",
      "(7, 1, 0, -4.9078957357165264e-05)\n",
      "(7, 1, 1, 3.1854388873840347e-06)\n",
      "(7, 3, -3, -1.93160544622612e-06)\n",
      "(7, 3, -2, 0.0)\n",
      "(7, 3, -1, -3.590916347841508e-05)\n",
      "(7, 3, 0, 4.83010151515911e-07)\n",
      "(7, 3, 1, 3.5909163478415095e-05)\n",
      "(7, 3, 2, 5.8205221482744875e-21)\n",
      "(7, 3, 3, 1.93160544622612e-06)\n",
      "(7, 5, -5, 9.161894560736971e-08)\n",
      "(7, 5, -4, -5.196894775245078e-21)\n",
      "(7, 5, -3, 3.3461477766136314e-06)\n",
      "(7, 5, -2, -7.691404267362716e-21)\n",
      "(7, 5, -1, 1.507870432881671e-05)\n",
      "(7, 5, 0, 3.073501203385063e-05)\n",
      "(7, 5, 1, -1.5078704328816724e-05)\n",
      "(7, 5, 2, 3.533888447166653e-21)\n",
      "(7, 5, 3, -3.3461477766136298e-06)\n",
      "(7, 5, 4, -5.196894775245078e-21)\n",
      "(7, 5, 5, -9.161894560736968e-08)\n",
      "(7, 7, -7, -9.128971132392584e-10)\n",
      "(7, 7, -6, -5.455724495496542e-25)\n",
      "(7, 7, -5, -4.9571367227133435e-08)\n",
      "(7, 7, -4, -2.0267889623455807e-21)\n",
      "(7, 7, -3, -5.560438560551685e-07)\n",
      "(7, 7, -2, 9.15952704136945e-22)\n",
      "(7, 7, -1, -8.156989936315453e-07)\n",
      "(7, 7, 0, -6.399552887130152e-06)\n",
      "(7, 7, 1, 8.156989936315458e-07)\n",
      "(7, 7, 2, 3.0531756804564834e-22)\n",
      "(7, 7, 3, 5.56043856055169e-07)\n",
      "(7, 7, 4, -2.338602648860285e-21)\n",
      "(7, 7, 5, 4.957136722713342e-08)\n",
      "(7, 7, 6, 3.045055532370163e-25)\n",
      "(7, 7, 7, 9.128971132392585e-10)\n",
      "(8, 0, 0, -0.0034480552686871665)\n",
      "(8, 2, -2, 1.4343429579676415e-20)\n",
      "(8, 2, -1, -3.4257930358415557e-19)\n",
      "(8, 2, 0, -0.005876916433350207)\n",
      "(8, 2, 1, 3.459053162403124e-19)\n",
      "(8, 2, 2, 4.937050036482824e-21)\n",
      "(8, 4, -4, -2.4657407004668395e-06)\n",
      "(8, 4, -3, 2.868685915935283e-20)\n",
      "(8, 4, -2, -3.1597120233490074e-20)\n",
      "(8, 4, -1, 1.3636651890243085e-19)\n",
      "(8, 4, 0, 0.010834160187595811)\n",
      "(8, 4, 1, -6.319424046698015e-20)\n",
      "(8, 4, 2, -2.951836232339204e-20)\n",
      "(8, 4, 3, -3.1597120233490074e-20)\n",
      "(8, 4, 4, -2.465740700466838e-06)\n",
      "(8, 6, -6, -3.74034321226135e-23)\n",
      "(8, 6, -5, -9.094565856678887e-23)\n",
      "(8, 6, -4, 3.858017533042073e-06)\n",
      "(8, 6, -3, 1.0393789550490156e-20)\n",
      "(8, 6, -2, 1.5434777482477882e-20)\n",
      "(8, 6, -1, 2.5776598085215588e-20)\n",
      "(8, 6, 0, -0.002670934424420708)\n",
      "(8, 6, 1, -2.7439604413294015e-20)\n",
      "(8, 6, 2, 3.3623909195835656e-20)\n",
      "(8, 6, 3, -1.0809541132509763e-20)\n",
      "(8, 6, 4, 3.858017533042072e-06)\n",
      "(8, 6, 5, 2.5984473876225392e-23)\n",
      "(8, 6, 6, -2.953703866399058e-23)\n",
      "(8, 8, -8, -6.275830482299268e-11)\n",
      "(8, 8, -7, -2.2330407237381195e-24)\n",
      "(8, 8, -6, 1.975479776625143e-23)\n",
      "(8, 8, -5, -2.2736414641697216e-22)\n",
      "(8, 8, -4, -6.178936793174847e-07)\n",
      "(8, 8, -3, -4.781143193225472e-21)\n",
      "(8, 8, -2, -2.2898817603423625e-21)\n",
      "(8, 8, -1, -3.6378263426715545e-21)\n",
      "(8, 8, 0, 0.00017010060954341104)\n",
      "(8, 8, 1, 2.858292126384793e-22)\n",
      "(8, 8, 2, -2.056021495456334e-21)\n",
      "(8, 8, 3, 4.28743818957719e-21)\n",
      "(8, 8, 4, -6.178936793174848e-07)\n",
      "(8, 8, 5, 2.468525018241412e-22)\n",
      "(8, 8, 6, 1.9196537585316902e-23)\n",
      "(8, 8, 7, 2.2330407237381195e-24)\n",
      "(8, 8, 8, -6.275830482299268e-11)\n",
      "(9, 1, -1, 1.015606753185324e-05)\n",
      "(9, 1, 0, 2.573367527674264e-05)\n",
      "(9, 1, 1, -1.015606753185324e-05)\n",
      "(9, 3, -3, 1.532893972744182e-06)\n",
      "(9, 3, -2, -5.612646357264684e-21)\n",
      "(9, 3, -1, 2.8496989574082877e-05)\n",
      "(9, 3, 0, -4.6562443801030463e-05)\n",
      "(9, 3, 1, -2.8496989574082826e-05)\n",
      "(9, 3, 2, 2.0787579100980313e-21)\n",
      "(9, 3, 3, -1.532893972744182e-06)\n",
      "(9, 5, -5, -2.1856190589256856e-07)\n",
      "(9, 5, -4, 2.66081012492548e-20)\n",
      "(9, 5, -3, -7.982414888171642e-06)\n",
      "(9, 5, -2, 3.32601265615685e-21)\n",
      "(9, 5, -1, -3.597105745596074e-05)\n",
      "(9, 5, 0, -3.187376184240782e-05)\n",
      "(9, 5, 1, 3.5971057455960784e-05)\n",
      "(9, 5, 2, 3.32601265615685e-21)\n",
      "(9, 5, 3, 7.98241488817165e-06)\n",
      "(9, 5, 4, 2.8271107577333226e-20)\n",
      "(9, 5, 5, 2.1856190589256853e-07)\n",
      "(9, 7, -7, 5.829040240451281e-09)\n",
      "(9, 7, -6, -4.922839777331764e-24)\n",
      "(9, 7, -5, 3.165236149294494e-07)\n",
      "(9, 7, -4, 7.483528476352913e-21)\n",
      "(9, 7, -3, 3.5504570727586424e-06)\n",
      "(9, 7, -2, 8.834721117916633e-22)\n",
      "(9, 7, -1, 5.208409785747014e-06)\n",
      "(9, 7, 0, 2.7276384750725398e-05)\n",
      "(9, 7, 1, -5.2084097857470324e-06)\n",
      "(9, 7, 2, -2.4945094921176374e-21)\n",
      "(9, 7, 3, -3.5504570727586424e-06)\n",
      "(9, 7, 4, 7.899280058372518e-21)\n",
      "(9, 7, 5, -3.165236149294493e-07)\n",
      "(9, 7, 6, -7.358884203227894e-24)\n",
      "(9, 7, 7, -5.829040240451281e-09)\n",
      "(9, 9, -9, -4.2980555978830304e-11)\n",
      "(9, 9, -8, 2.842051830212152e-24)\n",
      "(9, 9, -7, -3.0960218545941326e-09)\n",
      "(9, 9, -6, 2.9181782185214063e-25)\n",
      "(9, 9, -5, -5.632036367800602e-08)\n",
      "(9, 9, -4, -3.793733185928907e-21)\n",
      "(9, 9, -3, -2.9575908830500706e-07)\n",
      "(9, 9, -2, 5.529820846784216e-22)\n",
      "(9, 9, -1, -6.86777426966343e-08)\n",
      "(9, 9, 0, -3.931017993808232e-06)\n",
      "(9, 9, 1, 6.867774269663311e-08)\n",
      "(9, 9, 2, 7.917144384162423e-22)\n",
      "(9, 9, 3, 2.9575908830500716e-07)\n",
      "(9, 9, 4, -3.689795290424005e-21)\n",
      "(9, 9, 5, 5.632036367800601e-08)\n",
      "(9, 9, 6, -2.651735859439017e-24)\n",
      "(9, 9, 7, 3.0960218545941326e-09)\n",
      "(9, 9, 8, 2.956241412676033e-24)\n",
      "(9, 9, 9, 4.298055597883031e-11)\n",
      "(10, 0, 0, 0.0006148027218571268)\n",
      "(10, 2, -2, 3.550128743339294e-21)\n",
      "(10, 2, -1, 5.080484332279589e-19)\n",
      "(10, 2, 0, -0.0015738268280743033)\n",
      "(10, 2, 1, -5.255099996727823e-19)\n",
      "(10, 2, 2, 5.391778329316768e-22)\n",
      "(10, 4, -4, 2.715255477351968e-06)\n",
      "(10, 4, -3, -6.943051419727425e-20)\n",
      "(10, 4, -2, 6.246667519844584e-20)\n",
      "(10, 4, -1, -3.4257930358415557e-19)\n",
      "(10, 4, 0, -0.011290062214796817)\n",
      "(10, 4, 1, 3.6253537952109668e-19)\n",
      "(10, 4, 2, 4.66681150817008e-20)\n",
      "(10, 4, 3, 7.358803001747031e-20)\n",
      "(10, 4, 4, 2.715255477351968e-06)\n",
      "(10, 6, -6, 9.505648353548858e-23)\n",
      "(10, 6, -5, 1.5070994848210727e-21)\n",
      "(10, 6, -4, -1.0932234827950613e-05)\n",
      "(10, 6, -3, -7.483528476352913e-21)\n",
      "(10, 6, -2, -6.319424046698015e-20)\n",
      "(10, 6, -1, 1.0975841765317606e-19)\n",
      "(10, 6, 0, 0.006232067541234638)\n",
      "(10, 6, 1, -1.2306246827780345e-19)\n",
      "(10, 6, 2, -1.0726390816105842e-19)\n",
      "(10, 6, 3, 1.0809541132509763e-20)\n",
      "(10, 6, 4, -1.0932234827950613e-05)\n",
      "(10, 6, 5, -9.874100072965648e-22)\n",
      "(10, 6, 6, 9.845679554663527e-23)\n",
      "(10, 8, -8, 4.772191615181601e-10)\n",
      "(10, 8, -7, 3.248059234528174e-24)\n",
      "(10, 8, -6, -1.268773138487568e-22)\n",
      "(10, 8, -5, 9.874100072965648e-22)\n",
      "(10, 8, -4, 4.597779752742455e-06)\n",
      "(10, 8, -3, 2.9102610741372436e-20)\n",
      "(10, 8, -2, 1.1874904561435004e-20)\n",
      "(10, 8, -1, 1.0185913759480354e-20)\n",
      "(10, 8, 0, -0.001006794865660885)\n",
      "(10, 8, 1, 4.989018984235275e-21)\n",
      "(10, 8, 2, 2.6400225458244996e-20)\n",
      "(10, 8, 3, -2.5152970712186177e-20)\n",
      "(10, 8, 4, 4.597779752742455e-06)\n",
      "(10, 8, 5, -9.874100072965648e-22)\n",
      "(10, 8, 6, -1.211932101883325e-22)\n",
      "(10, 8, 7, -2.4360444258961302e-24)\n",
      "(10, 8, 8, 4.772191615181603e-10)\n",
      "(10, 10, -10, -6.70783259617878e-27)\n",
      "(10, 10, -9, -7.295445546303516e-25)\n",
      "(10, 10, -8, -2.786490381007814e-10)\n",
      "(10, 10, -7, -1.1368207320848608e-23)\n",
      "(10, 10, -6, 2.8179451405808884e-23)\n",
      "(10, 10, -5, -3.2805398268734555e-22)\n",
      "(10, 10, -4, -3.4258436220807913e-07)\n",
      "(10, 10, -3, -3.32601265615685e-21)\n",
      "(10, 10, -2, -1.664224350291373e-21)\n",
      "(10, 10, -1, 3.5403845656357097e-22)\n",
      "(10, 10, 0, 4.9497565025332766e-05)\n",
      "(10, 10, 1, -4.839608259446979e-22)\n",
      "(10, 10, 2, -1.6552921873964206e-21)\n",
      "(10, 10, 3, 3.3000281822806245e-21)\n",
      "(10, 10, 4, -3.4258436220807924e-07)\n",
      "(10, 10, 5, 3.1830980498376105e-22)\n",
      "(10, 10, 6, 2.4316037199114238e-23)\n",
      "(10, 10, 7, 1.2180222129480652e-23)\n",
      "(10, 10, 8, -2.786490381007813e-10)\n",
      "(10, 10, 9, 7.676077487849785e-25)\n",
      "(10, 10, 10, -6.4104638918457564e-27)\n"
     ]
    }
   ],
   "source": [
    "for _ in descriptor:\n",
    "    print(_)"
   ]
  },
  {
   "cell_type": "code",
   "execution_count": 15,
   "metadata": {},
   "outputs": [],
   "source": [
    "reconstrucuted_IMG3D = zen.reconstruct(descriptor, add_img3d=True)"
   ]
  },
  {
   "cell_type": "code",
   "execution_count": 16,
   "metadata": {},
   "outputs": [],
   "source": [
    "zen.plot_denisty_plot_3d(reconstrucuted_IMG3D)"
   ]
  },
  {
   "cell_type": "code",
   "execution_count": 19,
   "metadata": {},
   "outputs": [],
   "source": [
    "rinvdescr = zen.invariant_descriptor(10)"
   ]
  },
  {
   "cell_type": "code",
   "execution_count": 20,
   "metadata": {},
   "outputs": [
    {
     "name": "stdout",
     "output_type": "stream",
     "text": [
      "(0, 0, 0.004293114266660578)\n",
      "(1, 1, 1.0689779006295902e-05)\n",
      "(2, 0, 0.005360518132750186)\n",
      "(2, 2, 0.0036659442102591477)\n",
      "(3, 1, 1.529761159907066e-05)\n",
      "(3, 3, 1.5262331742266145e-05)\n",
      "(4, 0, 0.0011037203054326712)\n",
      "(4, 2, 0.009802988587342068)\n",
      "(4, 4, 0.0015408947851882982)\n",
      "(5, 1, 3.733026069559961e-05)\n",
      "(5, 3, 3.9743023485809016e-05)\n",
      "(5, 5, 1.0625892546393222e-05)\n",
      "(6, 0, 0.0032770516344822584)\n",
      "(6, 2, 0.011478225102121225)\n",
      "(6, 4, 0.005988898130601385)\n",
      "(6, 6, 0.0005382585982252921)\n",
      "(7, 1, 4.9285272618470557e-05)\n",
      "(7, 3, 5.0858937675155274e-05)\n",
      "(7, 5, 3.770657517119469e-05)\n",
      "(7, 7, 6.550442175836079e-06)\n",
      "(8, 0, 0.0034480552686871665)\n",
      "(8, 2, 0.005876916433350207)\n",
      "(8, 4, 0.010834160748772399)\n",
      "(8, 6, 0.0026709399971085366)\n",
      "(8, 8, 0.00017010285403909524)\n",
      "(9, 1, 2.947055239848691e-05)\n",
      "(9, 3, 6.161913282543211e-05)\n",
      "(9, 5, 6.10844012534609e-05)\n",
      "(9, 7, 2.8699619566575718e-05)\n",
      "(9, 9, 3.95520489356555e-06)\n",
      "(10, 0, 0.0006148027218571268)\n",
      "(10, 2, 0.0015738268280743033)\n",
      "(10, 4, 0.011290062867814662)\n",
      "(10, 6, 0.006232086718429631)\n",
      "(10, 8, 0.0010068158623496575)\n",
      "(10, 10, 4.949993607756272e-05)\n"
     ]
    }
   ],
   "source": [
    "for _ in rinvdescr:\n",
    "    print(_)"
   ]
  },
  {
   "cell_type": "markdown",
   "metadata": {},
   "source": [
    "# Test influence of rotation"
   ]
  },
  {
   "cell_type": "code",
   "execution_count": 19,
   "metadata": {},
   "outputs": [
    {
     "name": "stdout",
     "output_type": "stream",
     "text": [
      "Descriptors\n",
      "n\tl\tm\tdip-x\tdip-y\tdip-z\n",
      "0\t0\t0\t0.004293114266660578\t0.004293114266660578\t0.004293114266660578\n",
      "1\t1\t-1\t-5.344889503148082e-06\t-5.344889503147839e-06\t-5.344889503147848e-06\n",
      "1\t1\t0\t-7.558815224737765e-06\t-7.558815224737339e-06\t-7.558815224737393e-06\n",
      "1\t1\t1\t5.344889503148082e-06\t5.344889503147839e-06\t5.344889503147848e-06\n",
      "2\t0\t0\t0.001033376222821578\t0.0010333762228215777\t0.0010333762228215777\n",
      "2\t2\t-2\t-3.377981603909301e-22\t-0.005747003354012902\t0.005747003354012902\n",
      "2\t2\t-1\t-6.506512258606838e-20\t-2.908345149280462e-20\t-6.319424046698015e-20\n",
      "2\t2\t0\t0.009384817178263418\t-0.004692408589131709\t-0.004692408589131709\n",
      "2\t2\t1\t4.801930772326452e-20\t2.96810943919578e-20\t6.319424046698015e-20\n",
      "2\t2\t2\t2.598447387622539e-22\t-0.005747003354012903\t0.005747003354012903\n"
     ]
    }
   ],
   "source": [
    "dipx = [(-0.8, 0, 0, 0.2), (0.8, 0, 0, 0.2)]\n",
    "dipy = [(0, -0.8, 0, 0.2), (0, 0.8, 0, 0.2)]\n",
    "dipz = [(0, 0, -0.8, 0.2), (0, 0, 0.8, 0.2)]\n",
    "\n",
    "dipx_image = make_3D_img_from_spheres(dipx, ds=0.05)\n",
    "dipy_image = make_3D_img_from_spheres(dipy, ds=0.05)\n",
    "dipz_image = make_3D_img_from_spheres(dipz, ds=0.05)\n",
    "\n",
    "\n",
    "zenx = Zernike3D(dipx_image)\n",
    "zeny = Zernike3D(dipy_image)\n",
    "zenz = Zernike3D(dipz_image)\n",
    "\n",
    "descrdipx = zenx.descriptor(2)\n",
    "descrdipy = zeny.descriptor(2)\n",
    "descrdipz = zenz.descriptor(2)\n",
    "\n",
    "print('Descriptors')\n",
    "print('n\\tl\\tm\\tdip-x\\tdip-y\\tdip-z')\n",
    "for i in range(len(descrdipx)):\n",
    "    print(f'{descrdipx[i][0]}\\t{descrdipx[i][1]}\\t{descrdipx[i][2]}\\t{descrdipx[i][3]}\\t{descrdipy[i][3]}\\t{descrdipz[i][3]}')"
   ]
  },
  {
   "cell_type": "markdown",
   "metadata": {},
   "source": [
    "## Test orthogonality"
   ]
  },
  {
   "cell_type": "code",
   "execution_count": 36,
   "metadata": {},
   "outputs": [
    {
     "name": "stdout",
     "output_type": "stream",
     "text": [
      "n1\tl1\tm1\tn2\tl2\tm2\tRe[Zn1l1m1] * Re[Zn2l2m2]\n",
      "0\t0\t0\t0\t0\t0\t0.2820947917738781\n",
      "0\t0\t0\t1\t1\t-1\t-5.0776450279566904e-05\n",
      "0\t0\t0\t1\t1\t0\t-7.180874463451429e-05\n",
      "0\t0\t0\t1\t1\t1\t5.0776450279566904e-05\n",
      "1\t1\t-1\t0\t0\t0\t-5.0776450279566904e-05\n",
      "1\t1\t-1\t1\t1\t-1\t0.1406804106762509\n",
      "1\t1\t-1\t1\t1\t0\t2.86836870270652e-05\n",
      "1\t1\t-1\t1\t1\t1\t-0.1406804106762509\n",
      "1\t1\t0\t0\t0\t0\t-7.180874463451429e-05\n",
      "1\t1\t0\t1\t1\t-1\t2.86836870270652e-05\n",
      "1\t1\t0\t1\t1\t0\t0.2813608213525018\n",
      "1\t1\t0\t1\t1\t1\t-2.86836870270652e-05\n",
      "1\t1\t1\t0\t0\t0\t5.0776450279566904e-05\n",
      "1\t1\t1\t1\t1\t-1\t-0.1406804106762509\n",
      "1\t1\t1\t1\t1\t0\t-2.86836870270652e-05\n",
      "1\t1\t1\t1\t1\t1\t0.1406804106762509\n"
     ]
    }
   ],
   "source": [
    "moment = lambda n1, l1, m1, n2, l2, m2: np.sum(np.real(zen.zfunction_on_grid(n1, l1, m1)) * np.real(zen.zfunction_on_grid(n2, l2, m2))) / np.sum(np.real(zen.zfunction_on_grid(0,0,0)))\n",
    "modes = zen.allowed_modes(1)\n",
    "\n",
    "\n",
    "print('n1\\tl1\\tm1\\tn2\\tl2\\tm2\\tRe[Zn1l1m1] * Re[Zn2l2m2]')\n",
    "for n1, l1, m1 in modes:\n",
    "    for n2, l2, m2 in modes:\n",
    "        print(f'{n1}\\t{l1}\\t{m1}\\t{n2}\\t{l2}\\t{m2}\\t{moment(n1,l1,m1,n2,l2,m2)}')\n"
   ]
  },
  {
   "cell_type": "markdown",
   "metadata": {},
   "source": [
    "## Test rotational invariance"
   ]
  },
  {
   "cell_type": "code",
   "execution_count": 37,
   "metadata": {},
   "outputs": [],
   "source": [
    "# rotated dipole\n",
    "test_structure_rot = [(0.5, 0, 0, 0.2), (-0.5, 0, 0, 0.2)]\n",
    "test_structure_rot90 = [(0, 0.5, 0, 0.2), (0, -0.5, 0, 0.2)] \n",
    "test_structure_rot90theta = [(0, 0, 0.5, 0.2), (0, 0, -0.5, 0.2)] \n",
    "\n",
    "test_3d_image_rot = make_3D_img_from_spheres(test_structure_rot, ds=0.05)\n",
    "test_3d_image_rot90 = make_3D_img_from_spheres(test_structure_rot90, ds=0.05)\n",
    "test_3d_image_rot90theta = make_3D_img_from_spheres(test_structure_rot90theta, ds=0.05)\n",
    "\n",
    "zen1 = Zernike3D(test_3d_image_rot)\n",
    "zen2 = Zernike3D(test_3d_image_rot90)\n",
    "zen3 = Zernike3D(test_3d_image_rot90theta)\n"
   ]
  },
  {
   "cell_type": "code",
   "execution_count": 40,
   "metadata": {},
   "outputs": [],
   "source": [
    "zen1.plot_img3d()"
   ]
  },
  {
   "cell_type": "code",
   "execution_count": 41,
   "metadata": {},
   "outputs": [],
   "source": [
    "zen2.plot_img3d()"
   ]
  },
  {
   "cell_type": "code",
   "execution_count": 42,
   "metadata": {},
   "outputs": [],
   "source": [
    "zen3.plot_img3d()"
   ]
  },
  {
   "cell_type": "code",
   "execution_count": 38,
   "metadata": {},
   "outputs": [],
   "source": [
    "ri_desc1 = zen1.invariant_descriptor(2)\n",
    "ri_desc2 = zen2.invariant_descriptor(2)\n",
    "ri_desc3 = zen3.invariant_descriptor(2)\n"
   ]
  },
  {
   "cell_type": "code",
   "execution_count": 39,
   "metadata": {},
   "outputs": [
    {
     "name": "stdout",
     "output_type": "stream",
     "text": [
      "n\tl\tst1\t\t\tst2\t\t\tst3\n",
      "0\t0\t0.004293114266660578\t0.004293114266660578\t0.004293114266660579\n",
      "1\t1\t1.0689779006295902e-05\t1.0689779006295808e-05\t1.0689779006295765e-05\n",
      "2\t0\t0.005360518132750186\t0.005360518132750187\t0.005360518132750187\n",
      "2\t2\t0.0036659442102591477\t0.003665944210259148\t0.003665944210259148\n"
     ]
    }
   ],
   "source": [
    "print(f'n\\tl\\tst1\\t\\t\\tst2\\t\\t\\tst3')\n",
    "for i in range(len(ri_desc1)):\n",
    "    print(f'{ri_desc1[i][0]}\\t{ri_desc1[i][1]}\\t{ri_desc1[i][2]}\\t{ri_desc2[i][2]}\\t{ri_desc3[i][2]}')"
   ]
  },
  {
   "cell_type": "markdown",
   "metadata": {},
   "source": [
    "## Test influence of 3D image voxels values on the expansion coeffitients\n",
    "\n",
    "Value of density, i.e. voxel value influences on the value of the expansion coeffitients."
   ]
  },
  {
   "cell_type": "code",
   "execution_count": 305,
   "metadata": {},
   "outputs": [],
   "source": [
    "test_structure_geom = [(0.5, 0, 0, 0.2), (-0.5, 0, 0, 0.2), (0,0.5,0,0.3), (0,-0.5,0,0.3)] \n",
    "\n",
    "test_3d_image_dens1 = make_3D_img_from_spheres(test_structure_geom, ds=0.05)\n",
    "test_3d_image_dens01 = make_3D_img_from_spheres(test_structure_geom, val=0.1, ds=0.05)\n",
    "\n",
    "zen_dens1 = Zernike3D(test_3d_image_dens1)\n",
    "zen_dens01 = Zernike3D(test_3d_image_dens01)\n"
   ]
  },
  {
   "cell_type": "code",
   "execution_count": 306,
   "metadata": {},
   "outputs": [],
   "source": [
    "zen_dens1.plot_img3d()"
   ]
  },
  {
   "cell_type": "code",
   "execution_count": 308,
   "metadata": {},
   "outputs": [],
   "source": [
    "zen_dens01.plot_zfunction_3d(4, 2, 2, add_img3d=True)"
   ]
  },
  {
   "cell_type": "code",
   "execution_count": 311,
   "metadata": {},
   "outputs": [],
   "source": [
    "descriptor_dens1 = zen_dens1.descriptor(5)\n"
   ]
  },
  {
   "cell_type": "code",
   "execution_count": 312,
   "metadata": {},
   "outputs": [],
   "source": [
    "descriptor_dens01 = zen_dens01.descriptor(5)"
   ]
  },
  {
   "cell_type": "code",
   "execution_count": 320,
   "metadata": {},
   "outputs": [],
   "source": [
    "# rotationally invariant descriptors \n",
    "ri_descriptor_dens1 = zen_dens1.invariant_descriptor(5)"
   ]
  },
  {
   "cell_type": "code",
   "execution_count": 321,
   "metadata": {},
   "outputs": [],
   "source": [
    "ri_descriptor_dens01 = zen_dens01.invariant_descriptor(5)"
   ]
  },
  {
   "cell_type": "code",
   "execution_count": 322,
   "metadata": {},
   "outputs": [
    {
     "name": "stdout",
     "output_type": "stream",
     "text": [
      "n\tl\tDens1\t\t\tDens01\n",
      "0\t0\t0.0695626123427202\t0.006956261234272019\n",
      "1\t1\t0.00026525995951063523\t2.652599595106335e-05\n",
      "2\t0\t0.08052570287618739\t0.00805257028761874\n",
      "2\t2\t0.04136534980872191\t0.004136534980872191\n",
      "3\t1\t0.00045061452833452463\t4.506145283345275e-05\n",
      "3\t3\t0.0002480953584814384\t2.4809535848143837e-05\n",
      "4\t0\t0.013347096958543416\t0.0013347096958543415\n",
      "4\t2\t0.09265904627119834\t0.009265904627119834\n",
      "4\t4\t0.02204635666289009\t0.002204635666289009\n",
      "5\t1\t0.00026355359326303004\t2.635535932630297e-05\n",
      "5\t3\t0.0006869973523802791\t6.869973523802799e-05\n",
      "5\t5\t0.0001741985168601036\t1.7419851686010393e-05\n"
     ]
    }
   ],
   "source": [
    "print('n\\tl\\tDens1\\t\\t\\tDens01')\n",
    "for i in range(len(ri_descriptor_dens1)):\n",
    "    print(f'{ri_descriptor_dens1[i][0]}\\t{ri_descriptor_dens1[i][1]}\\t{ri_descriptor_dens1[i][2]}\\t{ri_descriptor_dens01[i][2]}')"
   ]
  },
  {
   "cell_type": "code",
   "execution_count": 313,
   "metadata": {},
   "outputs": [
    {
     "name": "stdout",
     "output_type": "stream",
     "text": [
      "n\tl\tm\tDens1\t\t\tDens01\n",
      "0\t0\t0\t0.0695626123427202\t0.006956261234272019\n",
      "1\t1\t-1\t-0.0001326299797553175\t-1.3262997975531754e-05\n",
      "1\t1\t0\t-0.00018756711614723932\t-1.875671161472369e-05\n",
      "1\t1\t1\t0.0001326299797553175\t1.3262997975531754e-05\n",
      "2\t0\t0\t-0.08052570287618739\t-0.00805257028761874\n",
      "2\t2\t-2\t-0.028354453415718236\t-0.0028354453415718236\n",
      "2\t2\t-1\t1.0025884080695399e-05\t1.0025884080695416e-06\n",
      "2\t2\t0\t-0.010155880402651212\t-0.0010155880402651209\n",
      "2\t2\t1\t-1.0025884080695448e-05\t-1.0025884080695361e-06\n",
      "2\t2\t2\t-0.028354453415718243\t-0.0028354453415718244\n",
      "3\t1\t-1\t0.0002464493796380595\t2.4644937963805956e-05\n",
      "3\t1\t0\t0.0002856201318152789\t2.8562013181528343e-05\n",
      "3\t1\t1\t-0.0002464493796380595\t-2.4644937963805956e-05\n",
      "3\t3\t-3\t0.0001295450336498466\t1.2954503364984665e-05\n",
      "3\t3\t-2\t0.00010527178284723237\t1.0527178284723186e-05\n",
      "3\t3\t-1\t9.035819336771634e-06\t9.035819336771681e-07\n",
      "3\t3\t0\t7.523221931799167e-05\t7.523221931799251e-06\n",
      "3\t3\t1\t-9.03581933677162e-06\t-9.035819336771639e-07\n",
      "3\t3\t2\t0.00010527178284723237\t1.0527178284723208e-05\n",
      "3\t3\t3\t-0.00012954503364984667\t-1.295450336498467e-05\n",
      "4\t0\t0\t0.013347096958543416\t0.0013347096958543415\n",
      "4\t2\t-2\t0.06430577982199306\t0.006430577982199306\n",
      "4\t2\t-1\t-1.9103528450791366e-05\t-1.910352845079133e-06\n",
      "4\t2\t0\t0.01775475961451394\t0.0017754759614513947\n",
      "4\t2\t1\t1.9103528450791484e-05\t1.9103528450791352e-06\n",
      "4\t2\t2\t0.06430577982199306\t0.006430577982199306\n",
      "4\t4\t-4\t0.010148690484646986\t0.0010148690484646989\n",
      "4\t4\t-3\t-2.1177173501119793e-05\t-2.1177173501119804e-06\n",
      "4\t4\t-2\t0.007685338498071421\t0.0007685338498071423\n",
      "4\t4\t-1\t-8.004219222175782e-06\t-8.004219222175794e-07\n",
      "4\t4\t0\t0.012724783859097432\t0.001272478385909743\n",
      "4\t4\t1\t8.004219222175782e-06\t8.004219222175783e-07\n",
      "4\t4\t2\t0.00768533849807142\t0.0007685338498071423\n",
      "4\t4\t3\t2.1177173501119742e-05\t2.117717350111979e-06\n",
      "4\t4\t4\t0.01014869048464699\t0.0010148690484646989\n",
      "5\t1\t-1\t-0.00017628240746939955\t-1.762824074693995e-05\n",
      "5\t1\t0\t-8.549574349311105e-05\t-8.54957434931103e-06\n",
      "5\t1\t1\t0.00017628240746939955\t1.762824074693995e-05\n",
      "5\t3\t-3\t-0.00035346909416038855\t-3.5346909416038857e-05\n",
      "5\t3\t-2\t-0.0002855306431158565\t-2.855306431158569e-05\n",
      "5\t3\t-1\t-4.355312591272292e-06\t-4.35531259127226e-07\n",
      "5\t3\t0\t-0.00024288089120500544\t-2.428808912050043e-05\n",
      "5\t3\t1\t4.35531259127231e-06\t4.355312591272378e-07\n",
      "5\t3\t2\t-0.00028553064311585645\t-2.855306431158588e-05\n",
      "5\t3\t3\t0.0003534690941603883\t3.5346909416038857e-05\n",
      "5\t5\t-5\t-7.158592228015925e-05\t-7.1585922280159205e-06\n",
      "5\t5\t-4\t-4.3478659867587166e-05\t-4.347865986758781e-06\n",
      "5\t5\t-3\t-3.278754069128145e-05\t-3.2787540691281463e-06\n",
      "5\t5\t-2\t-5.230294433741001e-05\t-5.230294433741003e-06\n",
      "5\t5\t-1\t-1.9830962874322546e-05\t-1.9830962874322544e-06\n",
      "5\t5\t0\t-8.892396309297236e-05\t-8.892396309297236e-06\n",
      "5\t5\t1\t1.9830962874322563e-05\t1.9830962874322573e-06\n",
      "5\t5\t2\t-5.2302944337410286e-05\t-5.230294433741038e-06\n",
      "5\t5\t3\t3.278754069128147e-05\t3.2787540691281476e-06\n",
      "5\t5\t4\t-4.347865986758689e-05\t-4.347865986758757e-06\n",
      "5\t5\t5\t7.158592228015923e-05\t7.15859222801592e-06\n"
     ]
    }
   ],
   "source": [
    "print('n\\tl\\tm\\tDens1\\t\\t\\tDens01')\n",
    "for i in range(len(descriptor_dens1)):\n",
    "    print(f'{descriptor_dens1[i][0]}\\t{descriptor_dens1[i][1]}\\t{descriptor_dens1[i][2]}\\t{descriptor_dens1[i][3]}\\t{descriptor_dens01[i][3]}')"
   ]
  },
  {
   "cell_type": "code",
   "execution_count": 314,
   "metadata": {},
   "outputs": [],
   "source": [
    "reconstrucuted_IMG3D_dens1 = zen.reconstruct(descriptor_dens1, add_img3d=True)\n",
    "\n",
    "reconstrucuted_IMG3D_dens01 = zen.reconstruct(descriptor_dens01, add_img3d=True)"
   ]
  },
  {
   "cell_type": "code",
   "execution_count": 315,
   "metadata": {},
   "outputs": [],
   "source": [
    "zen.plot_denisty_plot_3d(reconstrucuted_IMG3D_dens1)"
   ]
  },
  {
   "cell_type": "code",
   "execution_count": 316,
   "metadata": {},
   "outputs": [],
   "source": [
    "zen.plot_denisty_plot_3d(reconstrucuted_IMG3D_dens01)"
   ]
  },
  {
   "cell_type": "code",
   "execution_count": null,
   "metadata": {},
   "outputs": [],
   "source": []
  }
 ],
 "metadata": {
  "interpreter": {
   "hash": "30dd3515be3a345f27343e26aacf45f70256616f529a8c5d7056439a01d3cb8c"
  },
  "kernelspec": {
   "display_name": "Python 3.7.10 64-bit ('py3D': conda)",
   "name": "python3"
  },
  "language_info": {
   "codemirror_mode": {
    "name": "ipython",
    "version": 3
   },
   "file_extension": ".py",
   "mimetype": "text/x-python",
   "name": "python",
   "nbconvert_exporter": "python",
   "pygments_lexer": "ipython3",
   "version": "3.7.10"
  },
  "orig_nbformat": 4
 },
 "nbformat": 4,
 "nbformat_minor": 2
}
