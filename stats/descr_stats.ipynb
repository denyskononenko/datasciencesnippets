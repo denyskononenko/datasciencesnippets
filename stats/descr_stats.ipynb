{
 "cells": [
  {
   "cell_type": "markdown",
   "metadata": {},
   "source": [
    "## Data science snippets\n",
    "### Descriptive Statistics \n",
    "\n",
    "Descriptive Statistics deals with measure of sample features: (i) central tendencies (mean, mode, median) and (ii) variability (standard deviation, variance, mean average deviation).\n",
    "For given sample $\\{x_i\\},\\,i=1,2,...,n$. \n",
    "\n",
    "Mean: \n",
    "$\n",
    "\\bar{x} = \\dfrac{1}{n}\\sum_{i=0}^{n} x_i\n",
    "$\n",
    "\n",
    "Standard deviation:\n",
    "$\n",
    "\\sigma = \\sqrt{\\dfrac{1}{n} \\sum_{i=0}^{n} (x_i - \\bar{x})^2}\n",
    "$\n",
    "\n",
    "Variance:\n",
    "$\n",
    "\\text{var} = \\sigma^2\n",
    "$\n",
    "\n",
    "\n",
    "\n",
    "\n",
    "\n",
    " > for TeX typesetting plese use [Markdown All in One](https://marketplace.visualstudio.com/items?itemName=yzhang.markdown-all-in-one) extension. "
   ]
  },
  {
   "cell_type": "code",
   "execution_count": 30,
   "metadata": {},
   "outputs": [],
   "source": [
    "import numpy as np \n",
    "import matplotlib.pyplot as plt \n",
    "\n",
    "from scipy.stats import skewnorm"
   ]
  },
  {
   "cell_type": "code",
   "execution_count": 55,
   "metadata": {},
   "outputs": [],
   "source": [
    "def get_mode(arr):\n",
    "    vals, counts = np.unique(arr, return_counts=True)\n",
    "    index = np.argmax(counts)\n",
    "    return arr[index]\n",
    "\n",
    "def get_median(arr):\n",
    "    sarr = np.sort(arr)\n",
    "    if arr.shape[0] % 2 != 0:\n",
    "        return sarr[n // 2]\n",
    "    else:\n",
    "        return (sarr[n//2] + sarr[n//2 + 1]) / 2\n",
    "\n",
    "def get_moment(arr, m):\n",
    "    return np.mean((arr - arr.mean())**m) / arr.std()\n"
   ]
  },
  {
   "cell_type": "code",
   "execution_count": 56,
   "metadata": {},
   "outputs": [
    {
     "name": "stdout",
     "output_type": "stream",
     "text": [
      "Sample 1:\n",
      "skewness: -0.0055\n",
      "kurtosis: 2.9942\n",
      "Sample 2:\n",
      "skewness: 0.3119\n",
      "kurtosis: 0.9033\n",
      "Sample 3:\n",
      "skewness: -0.3404\n",
      "kurtosis: 0.9760\n"
     ]
    }
   ],
   "source": [
    "n = 10001\n",
    "sample_1 = skewnorm.rvs(0, size=n)\n",
    "sample_2 = skewnorm.rvs(4, size=n)\n",
    "sample_3 = skewnorm.rvs(-4, size=n)\n",
    "\n",
    "# central tendencies\n",
    "mean_1, mean_2, mean_3 = sample_1.mean(), sample_2.mean(), sample_3.mean()\n",
    "median_1, median_2, median_3 = get_median(sample_1), get_median(sample_2), get_median(sample_3)\n",
    "mode_1, mode_2, mode_3 = get_mode(sample_1), get_mode(sample_2), get_mode(sample_3)\n",
    "skewness_1, skewness_2, skewness_3 = get_moment(sample_1, 3), get_moment(sample_2, 3), get_moment(sample_3, 3)\n",
    "kurtosis_1, kurtosis_2, kurtosis_3 = get_moment(sample_1, 4), get_moment(sample_2, 4), get_moment(sample_3, 4)\n",
    "\n",
    "print(f\"Sample 1:\\nskewness: {skewness_1:.4f}\\nkurtosis: {kurtosis_1:.4f}\")\n",
    "print(f\"Sample 2:\\nskewness: {skewness_2:.4f}\\nkurtosis: {kurtosis_2:.4f}\")\n",
    "print(f\"Sample 3:\\nskewness: {skewness_3:.4f}\\nkurtosis: {kurtosis_3:.4f}\")\n",
    "\n"
   ]
  },
  {
   "cell_type": "code",
   "execution_count": 54,
   "metadata": {},
   "outputs": [
    {
     "data": {
      "image/png": "[encoded data removed]",
      "text/plain": [
       "<Figure size 576x288 with 3 Axes>"
      ]
     },
     "metadata": {
      "needs_background": "light"
     },
     "output_type": "display_data"
    }
   ],
   "source": [
    "plt.figure(figsize=(8,4))\n",
    "\n",
    "plt.subplot(1,3,1)\n",
    "plt.hist(sample_1, bins=50)\n",
    "plt.axvline(x=mean_1, color='red', label='mean')\n",
    "plt.axvline(x=median_1, color='black', linestyle='dashed', label='median')\n",
    "plt.axvline(x=mode_1, color='blue', linestyle='dotted', label='mode')\n",
    "plt.legend()\n",
    "\n",
    "plt.subplot(1,3,2)\n",
    "plt.hist(sample_2, bins=50)\n",
    "plt.axvline(x=mean_2, color='red')\n",
    "plt.axvline(x=median_2, color='black', linestyle='dashed')\n",
    "plt.axvline(x=mode_2, color='blue', linestyle='dotted')\n",
    "\n",
    "plt.subplot(1,3,3)\n",
    "plt.hist(sample_3, bins=50)\n",
    "plt.axvline(x=mean_3, color='red')\n",
    "plt.axvline(x=median_3, color='black', linestyle='dashed')\n",
    "plt.axvline(x=mode_3, color='blue', linestyle='dotted')\n",
    "\n",
    "plt.tight_layout()\n",
    "plt.show()"
   ]
  },
  {
   "cell_type": "code",
   "execution_count": null,
   "metadata": {},
   "outputs": [],
   "source": []
  },
  {
   "cell_type": "code",
   "execution_count": null,
   "metadata": {},
   "outputs": [],
   "source": []
  }
 ],
 "metadata": {
  "interpreter": {
   "hash": "0023d5867f2aad9bc84ffb0b31852b4e1a7609167e65cd879fc2180c31efdcff"
  },
  "kernelspec": {
   "display_name": "Python 3.7.10 ('pyml')",
   "language": "python",
   "name": "python3"
  },
  "language_info": {
   "codemirror_mode": {
    "name": "ipython",
    "version": 3
   },
   "file_extension": ".py",
   "mimetype": "text/x-python",
   "name": "python",
   "nbconvert_exporter": "python",
   "pygments_lexer": "ipython3",
   "version": "3.7.10"
  },
  "orig_nbformat": 4
 },
 "nbformat": 4,
 "nbformat_minor": 2
}
