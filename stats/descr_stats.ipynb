{
 "cells": [
  {
   "cell_type": "markdown",
   "metadata": {},
   "source": [
    "## Data science snippets\n",
    "### Descriptive Statistics \n",
    "\n",
    "Descriptive Statistics deals with measure of sample features: (i) central tendencies (mean, mode, median) and (ii) variability (standard deviation, variance, mean average deviation).\n",
    "For given sample $\\{x_i\\},\\,i=1,2,...,n$. \n",
    "\n",
    "Mean: \n",
    "$\n",
    "\\bar{x} = \\dfrac{1}{n}\\sum_{i=0}^{n} x_i\n",
    "$\n",
    "\n",
    "Standard deviation:\n",
    "$\n",
    "\\sigma = \\sqrt{\\dfrac{1}{n} \\sum_{i=0}^{n} (x_i - \\bar{x})^2}\n",
    "$\n",
    "\n",
    "Variance:\n",
    "$\n",
    "\\text{var} = \\sigma^2\n",
    "$\n",
    "\n",
    "\n",
    "\n",
    "\n",
    "\n",
    " > for TeX typesetting plese use [Markdown All in One](https://marketplace.visualstudio.com/items?itemName=yzhang.markdown-all-in-one) extension. "
   ]
  },
  {
   "cell_type": "code",
   "execution_count": 1,
   "metadata": {},
   "outputs": [],
   "source": [
    "import numpy as np \n",
    "import matplotlib.pyplot as plt "
   ]
  },
  {
   "cell_type": "code",
   "execution_count": 57,
   "metadata": {},
   "outputs": [],
   "source": [
    "def get_mode(arr):\n",
    "    vals, counts = np.unique(arr, return_counts=True)\n",
    "    index = np.argmax(counts)\n",
    "    return arr[index]\n",
    "\n",
    "def get_median(arr):\n",
    "    sarr = np.sort(arr)\n",
    "    if arr.shape[0] % 2 != 0:\n",
    "        return sarr[n // 2]\n",
    "    else:\n",
    "        return (sarr[n//2] + sarr[n//2 + 1]) / 2\n",
    "\n",
    "def get_moment(arr, m):\n",
    "    return np.mean((arr - arr.mean())**3) / arr.std()\n",
    "\n"
   ]
  },
  {
   "cell_type": "code",
   "execution_count": 58,
   "metadata": {},
   "outputs": [
    {
     "name": "stdout",
     "output_type": "stream",
     "text": [
      "0.01733983564148875\n",
      "0.2869110485881596\n"
     ]
    }
   ],
   "source": [
    "n = 10001\n",
    "sample_norm = np.random.normal(loc=0, scale=1, size=n)\n",
    "sample_rayl = np.random.rayleigh(1, size=n)\n",
    "\n",
    "# central tendencies\n",
    "mean_norm, mean_rayl = sample_norm.mean(), sample_rayl.mean()\n",
    "median_norm, median_rayl = get_median(sample_norm), get_median(sample_rayl)\n",
    "mode_norm, mode_rayl = get_mode(sample_norm), get_mode(sample_rayl)\n",
    "skewness_norm, skewness_rayl = get_moment(sample_norm, 3), get_moment(sample_rayl, 3)\n",
    "\n",
    "print(skewness_norm)\n",
    "print(skewness_rayl)"
   ]
  },
  {
   "cell_type": "code",
   "execution_count": 59,
   "metadata": {},
   "outputs": [
    {
     "data": {
      "image/png": "[encoded data removed]",
      "text/plain": [
       "<Figure size 432x288 with 2 Axes>"
      ]
     },
     "metadata": {
      "needs_background": "light"
     },
     "output_type": "display_data"
    }
   ],
   "source": [
    "plt.subplot(1,2,1)\n",
    "plt.hist(sample_norm, bins=50)\n",
    "plt.axvline(x=mean_norm, color='red')\n",
    "plt.axvline(x=median_norm, color='black', linestyle='dashed')\n",
    "plt.axvline(x=mode_norm, color='blue', linestyle='dotted')\n",
    "\n",
    "plt.subplot(1,2,2)\n",
    "plt.hist(sample_rayl, bins=50)\n",
    "plt.axvline(x=mean_rayl, color='red', label='mean')\n",
    "plt.axvline(x=median_rayl, color='black', linestyle='dashed', label='median')\n",
    "plt.axvline(x=mode_rayl, color='blue', linestyle='dotted', label='mode')\n",
    "\n",
    "plt.legend()\n",
    "plt.tight_layout()\n",
    "plt.show()"
   ]
  },
  {
   "cell_type": "code",
   "execution_count": null,
   "metadata": {},
   "outputs": [],
   "source": []
  },
  {
   "cell_type": "code",
   "execution_count": null,
   "metadata": {},
   "outputs": [],
   "source": []
  }
 ],
 "metadata": {
  "interpreter": {
   "hash": "0023d5867f2aad9bc84ffb0b31852b4e1a7609167e65cd879fc2180c31efdcff"
  },
  "kernelspec": {
   "display_name": "Python 3.7.10 ('pyml')",
   "language": "python",
   "name": "python3"
  },
  "language_info": {
   "codemirror_mode": {
    "name": "ipython",
    "version": 3
   },
   "file_extension": ".py",
   "mimetype": "text/x-python",
   "name": "python",
   "nbconvert_exporter": "python",
   "pygments_lexer": "ipython3",
   "version": "3.7.10"
  },
  "orig_nbformat": 4
 },
 "nbformat": 4,
 "nbformat_minor": 2
}
