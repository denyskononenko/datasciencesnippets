{
 "metadata": {
  "language_info": {
   "codemirror_mode": {
    "name": "ipython",
    "version": 3
   },
   "file_extension": ".py",
   "mimetype": "text/x-python",
   "name": "python",
   "nbconvert_exporter": "python",
   "pygments_lexer": "ipython3",
   "version": "3.7.8"
  },
  "orig_nbformat": 2,
  "kernelspec": {
   "name": "python37864bitmlenvcondaf2d7f4e201b84986a7dc039eff7fced6",
   "display_name": "Python 3.7.8 64-bit ('mlenv': conda)"
  },
  "metadata": {
   "interpreter": {
    "hash": "f1c45f18e9d77bf9f276de58c89a7652989b8a06c102bd2dbfc4bda9f8804f24"
   }
  }
 },
 "nbformat": 4,
 "nbformat_minor": 2,
 "cells": [
  {
   "source": [
    "# \n",
    "\n",
    "## Deep Reinforced Learning for Cart-Pole Problem\n",
    "\n",
    "Deep reinforced learning is used for stabiliaztion of cart-pole."
   ],
   "cell_type": "markdown",
   "metadata": {}
  },
  {
   "cell_type": "code",
   "execution_count": 25,
   "metadata": {},
   "outputs": [],
   "source": [
    "import gym\n",
    "import signal \n",
    "import matplotlib.pyplot as plt\n",
    "import numpy as np\n",
    "from time import sleep"
   ]
  },
  {
   "cell_type": "code",
   "execution_count": 28,
   "metadata": {},
   "outputs": [],
   "source": [
    "# make environment of cart-pole, \n",
    "env = gym.make('CartPole-v0')\n",
    "# termination condition of simulation for pole angle and pole velocity\n",
    "isterminate = lambda pole_angle, pole_velo: abs(pole_angle) <= 10 and abs(pole_velo) <= 3\n",
    "\n",
    "def keyboard_monitor(signal, frame):\n",
    "    print(f\"key {signal} is pushed\")\n",
    "    exit(0)"
   ]
  },
  {
   "cell_type": "code",
   "execution_count": 29,
   "metadata": {},
   "outputs": [
    {
     "output_type": "stream",
     "name": "stdout",
     "text": [
      "car_x: -0.002\tcar_v: 0.197\tpole_ang:           -0.000\tpole_v: -0.296\treward: 1.0\n",
      "car_x: 0.002\tcar_v: 0.392\tpole_ang:           -0.006\tpole_v: -0.589\treward: 1.0\n",
      "car_x: 0.010\tcar_v: 0.587\tpole_ang:           -0.018\tpole_v: -0.884\treward: 1.0\n",
      "car_x: 0.022\tcar_v: 0.783\tpole_ang:           -0.036\tpole_v: -1.182\treward: 1.0\n",
      "car_x: 0.037\tcar_v: 0.978\tpole_ang:           -0.060\tpole_v: -1.486\treward: 1.0\n",
      "car_x: 0.057\tcar_v: 1.174\tpole_ang:           -0.089\tpole_v: -1.797\treward: 1.0\n",
      "car_x: 0.080\tcar_v: 1.370\tpole_ang:           -0.125\tpole_v: -2.116\treward: 1.0\n",
      "car_x: 0.108\tcar_v: 1.566\tpole_ang:           -0.167\tpole_v: -2.444\treward: 1.0\n",
      "car_x: 0.139\tcar_v: 1.762\tpole_ang:           -0.216\tpole_v: -2.783\treward: 1.0\n",
      "car_x: 0.174\tcar_v: 1.958\tpole_ang:           -0.272\tpole_v: -3.133\treward: 0.0\n",
      "Terminate\n"
     ]
    }
   ],
   "source": [
    "# termination flag \n",
    "terminate = True \n",
    "env.reset()\n",
    "while terminate:\n",
    "    env.render()\n",
    "    observ, reward, done, info = env.step(1)\n",
    "    \n",
    "    sleep(0.1)\n",
    "\n",
    "    pole_angle, pole_veloc = observ[2:] \n",
    "    terminate = isterminate(pole_angle, pole_veloc)\n",
    "    print(f'car_x: {observ[0]:.3f}\\tcar_v: {observ[1]:.3f}\\tpole_ang: \\\n",
    "          {observ[2]:.3f}\\tpole_v: {observ[3]:.3f}\\treward: {reward}')\n",
    "print('Terminate')\n",
    "env.close()"
   ]
  },
  {
   "cell_type": "code",
   "execution_count": 20,
   "metadata": {},
   "outputs": [],
   "source": [
    "\n"
   ]
  }
 ]
}