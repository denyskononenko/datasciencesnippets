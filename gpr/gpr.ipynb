{
 "cells": [
  {
   "cell_type": "markdown",
   "metadata": {},
   "source": [
    "# Gaussian Process Regression Model \n",
    "\n",
    "Squared exponential kernel \n",
    "\n",
    "$\n",
    "k(x_1, x_2) = \\sigma^2 \\exp{(-||x_2 - x_1||^2_2 / (2 \\ell))}, \n",
    "$\n",
    "where $\\ell > 0$ is the lengthscale and $\\sigma^2 > 0$ is variance.\n",
    "\n",
    "Multivariate Normal distribution adoptation\n",
    "\n",
    "$\n",
    "\\mathcal{N}(K_1 K^{-1} y, K_2 - K_1 K^{-1} K_1^\\text{T}) + \\sigma^2 I \n",
    "$\n",
    "\n"
   ]
  },
  {
   "cell_type": "code",
   "execution_count": 8,
   "metadata": {},
   "outputs": [],
   "source": [
    "import numpy as np \n",
    "import matplotlib.pyplot as plt "
   ]
  },
  {
   "cell_type": "code",
   "execution_count": 13,
   "metadata": {},
   "outputs": [],
   "source": [
    "class SquareExponentialKernel:\n",
    "\n",
    "    def __init__(self, sigma=0.1, ell=0.1):\n",
    "        self.sigma = sigma \n",
    "        self.ell   = ell \n",
    "    \n",
    "    def __call__(self, x1, x2):\n",
    "        return self.sigma**2 * np.exp(-np.linalg.norm(x2 - x1)**2 / (2 * self.ell))\n",
    "    \n",
    "class GPR:\n",
    "\n",
    "    def __init__(self, inp_x, inp_y, noise, covariance_function=SquareExponentialKernel()):\n",
    "        self.inp_x = inp_x \n",
    "        self.inp_y = inp_y \n",
    "        self.covariance_function = covariance_function\n",
    "        self.noise = noise\n",
    "        self.buff  = None \n",
    "    \n",
    "    def predict(self, ):\n",
    "\n",
    "\n",
    "\n"
   ]
  },
  {
   "cell_type": "code",
   "execution_count": 31,
   "metadata": {},
   "outputs": [],
   "source": [
    "k = SquareExponentialKernell(0.001, 0.001)\n"
   ]
  },
  {
   "cell_type": "code",
   "execution_count": 32,
   "metadata": {},
   "outputs": [],
   "source": [
    "rng = np.arange(0,1,0.01)\n",
    "M = np.array([[k(a,b) for a in rng] for b in rng])\n"
   ]
  },
  {
   "cell_type": "code",
   "execution_count": 33,
   "metadata": {},
   "outputs": [
    {
     "data": {
      "image/png": "[encoded data removed]",
      "text/plain": [
       "<Figure size 432x288 with 1 Axes>"
      ]
     },
     "metadata": {
      "needs_background": "light"
     },
     "output_type": "display_data"
    }
   ],
   "source": [
    "plt.imshow(M)\n",
    "plt.show()"
   ]
  },
  {
   "cell_type": "code",
   "execution_count": 35,
   "metadata": {},
   "outputs": [
    {
     "data": {
      "text/plain": [
       "array([[1., 1.],\n",
       "       [1., 1.]])"
      ]
     },
     "execution_count": 35,
     "metadata": {},
     "output_type": "execute_result"
    }
   ],
   "source": [
    "np.cov([[0, 1, 2], [0, 1, 2]])\n"
   ]
  },
  {
   "cell_type": "code",
   "execution_count": null,
   "metadata": {},
   "outputs": [],
   "source": []
  }
 ],
 "metadata": {
  "interpreter": {
   "hash": "0023d5867f2aad9bc84ffb0b31852b4e1a7609167e65cd879fc2180c31efdcff"
  },
  "kernelspec": {
   "display_name": "Python 3.7.10 ('pyml')",
   "language": "python",
   "name": "python3"
  },
  "language_info": {
   "codemirror_mode": {
    "name": "ipython",
    "version": 3
   },
   "file_extension": ".py",
   "mimetype": "text/x-python",
   "name": "python",
   "nbconvert_exporter": "python",
   "pygments_lexer": "ipython3",
   "version": "3.7.10"
  },
  "orig_nbformat": 4
 },
 "nbformat": 4,
 "nbformat_minor": 2
}
