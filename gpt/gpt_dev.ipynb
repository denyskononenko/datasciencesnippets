{
 "cells": [
  {
   "cell_type": "code",
   "execution_count": 2,
   "metadata": {},
   "outputs": [
    {
     "data": {
      "text/plain": [
       "<torch._C.Generator at 0x10d5576d0>"
      ]
     },
     "execution_count": 2,
     "metadata": {},
     "output_type": "execute_result"
    }
   ],
   "source": [
    "import torch\n",
    "import torch.nn as nn\n",
    "from torch.nn import functional as F\n",
    "torch.manual_seed(1555)"
   ]
  },
  {
   "cell_type": "code",
   "execution_count": 11,
   "metadata": {},
   "outputs": [
    {
     "data": {
      "text/plain": [
       "False"
      ]
     },
     "execution_count": 11,
     "metadata": {},
     "output_type": "execute_result"
    }
   ],
   "source": [
    "torch.cuda.is_available()"
   ]
  },
  {
   "cell_type": "code",
   "execution_count": 10,
   "metadata": {},
   "outputs": [
    {
     "name": "stdout",
     "output_type": "stream",
     "text": [
      "tensor([[[ 0.7425,  0.3908, -0.7371],\n",
      "         [-0.0140, -1.7875, -1.1936],\n",
      "         [-1.5519,  0.9916,  0.0361],\n",
      "         [ 0.1350, -1.7223,  0.4365]],\n",
      "\n",
      "        [[-1.4478,  0.0525, -0.3893],\n",
      "         [ 2.7292, -0.3402, -0.7701],\n",
      "         [ 0.3766, -1.1537, -0.3654],\n",
      "         [-0.5021, -0.8938,  0.8260]]], grad_fn=<EmbeddingBackward0>)\n"
     ]
    }
   ],
   "source": [
    "embedding = nn.Embedding(10, 3)\n",
    "input = torch.LongTensor([[1, 2, 3, 4], [5, 6, 7, 8]])\n",
    "\n",
    "print(embedding(input))"
   ]
  },
  {
   "cell_type": "code",
   "execution_count": 14,
   "metadata": {},
   "outputs": [],
   "source": [
    "with open('data/hp/01 Harry Potter and the Sorcerers Stone.txt', 'r', encoding='utf-8') as f:\n",
    "    text = f.read()\n"
   ]
  },
  {
   "cell_type": "code",
   "execution_count": 15,
   "metadata": {},
   "outputs": [],
   "source": [
    "vocab = sorted(list(set(text)))\n",
    "vocab_size = len(vocab)"
   ]
  },
  {
   "cell_type": "code",
   "execution_count": 16,
   "metadata": {},
   "outputs": [
    {
     "name": "stdout",
     "output_type": "stream",
     "text": [
      "82\n",
      "['\\n', ' ', '!', \"'\", '(', ')', '*', ',', '-', '.', '0', '1', '2', '3', '4', '5', '6', '7', '8', '9', ':', ';', '?', 'A', 'B', 'C', 'D', 'E', 'F', 'G', 'H', 'I', 'J', 'K', 'L', 'M', 'N', 'O', 'P', 'Q', 'R', 'S', 'T', 'U', 'V', 'W', 'X', 'Y', 'Z', 'a', 'b', 'c', 'd', 'e', 'f', 'g', 'h', 'i', 'j', 'k', 'l', 'm', 'n', 'o', 'p', 'q', 'r', 's', 't', 'u', 'v', 'w', 'x', 'y', 'z', '–', '—', '‘', '’', '“', '”', '…']\n",
      "\n",
      " !'()*,-.0123456789:;?ABCDEFGHIJKLMNOPQRSTUVWXYZabcdefghijklmnopqrstuvwxyz–—‘’“”…\n"
     ]
    }
   ],
   "source": [
    "print( len(vocab) )\n",
    "print( vocab )\n",
    "print(''.join(vocab))"
   ]
  },
  {
   "cell_type": "code",
   "execution_count": 17,
   "metadata": {},
   "outputs": [],
   "source": [
    "char2token = {c : i for i, c in enumerate(vocab)}\n",
    "token2char = {i : c for i, c in enumerate(vocab)}\n",
    "encode = lambda s: [char2token[c] for c in s]\n",
    "decode = lambda s: ''.join([token2char[int(t)] for t in s])\n"
   ]
  },
  {
   "cell_type": "code",
   "execution_count": 18,
   "metadata": {},
   "outputs": [],
   "source": [
    "data = torch.tensor(encode(text), dtype=torch.long)\n",
    "n = len(data)\n",
    "\n",
    "train_data = data[:int(0.9 * n)]\n",
    "val_data = data[int(0.9 * n) :]"
   ]
  },
  {
   "cell_type": "code",
   "execution_count": 19,
   "metadata": {},
   "outputs": [
    {
     "name": "stdout",
     "output_type": "stream",
     "text": [
      "tensor([35,  1, 66,  9,  1, 49, 62, 52,  1])\n",
      "When context: tensor([35]) target: 1\n",
      "When context: tensor([35,  1]) target: 66\n",
      "When context: tensor([35,  1, 66]) target: 9\n",
      "When context: tensor([35,  1, 66,  9]) target: 1\n",
      "When context: tensor([35,  1, 66,  9,  1]) target: 49\n",
      "When context: tensor([35,  1, 66,  9,  1, 49]) target: 62\n",
      "When context: tensor([35,  1, 66,  9,  1, 49, 62]) target: 52\n",
      "When context: tensor([35,  1, 66,  9,  1, 49, 62, 52]) target: 1\n"
     ]
    }
   ],
   "source": [
    "block_size = 8\n",
    "x = train_data[: block_size]\n",
    "y = train_data[1: block_size + 1]\n",
    "\n",
    "print(train_data[: block_size + 1])\n",
    "for i in range(block_size):\n",
    "    context = x[: i + 1]\n",
    "    target  = y[i]\n",
    "    print(f'When context: {context} target: {target}')"
   ]
  },
  {
   "cell_type": "code",
   "execution_count": 20,
   "metadata": {},
   "outputs": [],
   "source": [
    "def get_batch(data, batch_size, block_size):\n",
    "    \"\"\"\n",
    "    Args:\n",
    "        data: (torch.tensor) dataset\n",
    "        batch_size: (int) size of the batch\n",
    "        block_size: (int) lenght of the context\n",
    "    \"\"\"\n",
    "    indx = torch.randint(len(data) - block_size, (batch_size, ))\n",
    "    x_batch = torch.stack([data[i : i + block_size] for i in indx])\n",
    "    y_batch = torch.stack([data[i + 1 : i + block_size + 1] for i in indx])\n",
    "    return x_batch, y_batch"
   ]
  },
  {
   "cell_type": "code",
   "execution_count": 23,
   "metadata": {},
   "outputs": [
    {
     "name": "stdout",
     "output_type": "stream",
     "text": [
      "input:\n",
      "tensor([[ 1, 71, 49, 67,  1, 71, 56, 49],\n",
      "        [53, 52,  1, 57, 68, 78, 67,  1],\n",
      "        [63, 69,  8, 33, 62, 63, 71,  8],\n",
      "        [57, 62, 68, 60, 73,  9,  0,  0]])\n",
      "output:\n",
      "tensor([[71, 49, 67,  1, 71, 56, 49, 68],\n",
      "        [52,  1, 57, 68, 78, 67,  1, 49],\n",
      "        [69,  8, 33, 62, 63, 71,  8, 45],\n",
      "        [62, 68, 60, 73,  9,  0,  0, 79]])\n"
     ]
    }
   ],
   "source": [
    "batch_size = 4\n",
    "x_batch, y_batch = get_batch(data, batch_size, block_size)\n",
    "\n",
    "print('input:')\n",
    "print(x_batch)\n",
    "print('output:')\n",
    "print(y_batch)"
   ]
  },
  {
   "cell_type": "code",
   "execution_count": 28,
   "metadata": {},
   "outputs": [
    {
     "name": "stdout",
     "output_type": "stream",
     "text": [
      "tensor([[0]])\n",
      "\n"
     ]
    }
   ],
   "source": [
    "context = torch.zeros((1, 1), dtype=torch.long)\n",
    "\n",
    "print(context[:, -8:])\n",
    "print()"
   ]
  },
  {
   "cell_type": "code",
   "execution_count": 59,
   "metadata": {},
   "outputs": [
    {
     "name": "stdout",
     "output_type": "stream",
     "text": [
      "Embedding(82, 82)\n",
      "torch.Size([32, 82])\n",
      "tensor(4.7846, grad_fn=<NllLossBackward0>)\n",
      "\n",
      "j!F2')8gnL0—3brlA”8wDhy:‘DSKrHtq3”pq7TWmVbh…G….hDuQ4QBP2G’)–AO-E'H*g—5 :xnY…Q.HCyuDf5gn“qNXluhZa.ulp\n"
     ]
    }
   ],
   "source": [
    "class BigramLanguageModel(nn.Module):\n",
    "\n",
    "    def __init__(self, vocab_size):\n",
    "        super().__init__()\n",
    "        self.token_embedding_table = nn.Embedding(vocab_size, vocab_size)\n",
    "        print(self.token_embedding_table)\n",
    "    \n",
    "    def forward(self, idx, targets=None):\n",
    "        logits = self.token_embedding_table(idx)\n",
    "        if targets == None:\n",
    "            loss = None\n",
    "        else:\n",
    "            B, T, C = logits.shape\n",
    "            logits = logits.view(B*T, C)\n",
    "            targets = targets.view(B*T)\n",
    "            loss = F.cross_entropy(logits, targets)\n",
    "        return logits, loss\n",
    "    \n",
    "    def generate(self, idx,  max_new_tokens):\n",
    "        for _ in range(max_new_tokens):\n",
    "            logits, loss = self(idx)\n",
    "            logits = logits[:, -1, :]\n",
    "            probs = F.softmax(logits, dim=-1)\n",
    "            idx_next = torch.multinomial(probs, num_samples=1)\n",
    "            idx = torch.cat((idx, idx_next), dim=1)\n",
    "        return idx\n",
    "\n",
    "\n",
    "m = BigramLanguageModel(vocab_size)\n",
    "logits, loss = m(x_batch, y_batch)\n",
    "print(logits.shape)\n",
    "print(loss)\n",
    "print(decode(m.generate(torch.zeros((1, 1), dtype=torch.long), max_new_tokens=100)[0].tolist()))"
   ]
  },
  {
   "cell_type": "markdown",
   "metadata": {},
   "source": [
    "# Mathematical representation of self attention mechanism"
   ]
  },
  {
   "cell_type": "code",
   "execution_count": 73,
   "metadata": {},
   "outputs": [
    {
     "name": "stdout",
     "output_type": "stream",
     "text": [
      "tensor([[1., 0., 0., 0., 0., 0., 0., 0.],\n",
      "        [1., 1., 0., 0., 0., 0., 0., 0.],\n",
      "        [1., 1., 1., 0., 0., 0., 0., 0.],\n",
      "        [1., 1., 1., 1., 0., 0., 0., 0.],\n",
      "        [1., 1., 1., 1., 1., 0., 0., 0.],\n",
      "        [1., 1., 1., 1., 1., 1., 0., 0.],\n",
      "        [1., 1., 1., 1., 1., 1., 1., 0.],\n",
      "        [1., 1., 1., 1., 1., 1., 1., 1.]])\n",
      "tensor([[1.0000, 0.0000, 0.0000, 0.0000, 0.0000, 0.0000, 0.0000, 0.0000],\n",
      "        [0.5000, 0.5000, 0.0000, 0.0000, 0.0000, 0.0000, 0.0000, 0.0000],\n",
      "        [0.3333, 0.3333, 0.3333, 0.0000, 0.0000, 0.0000, 0.0000, 0.0000],\n",
      "        [0.2500, 0.2500, 0.2500, 0.2500, 0.0000, 0.0000, 0.0000, 0.0000],\n",
      "        [0.2000, 0.2000, 0.2000, 0.2000, 0.2000, 0.0000, 0.0000, 0.0000],\n",
      "        [0.1667, 0.1667, 0.1667, 0.1667, 0.1667, 0.1667, 0.0000, 0.0000],\n",
      "        [0.1429, 0.1429, 0.1429, 0.1429, 0.1429, 0.1429, 0.1429, 0.0000],\n",
      "        [0.1250, 0.1250, 0.1250, 0.1250, 0.1250, 0.1250, 0.1250, 0.1250]])\n"
     ]
    }
   ],
   "source": [
    "B, T, C = 4, 8, 2 # batch size, context depth, number of chanels\n",
    "x = torch.randn((B, T, C))\n",
    "tril = torch.tril(torch.ones(T, T))\n",
    "wei = torch.zeros((T, T))\n",
    "wei = wei.masked_fill(tril == 0, float('-inf'))\n",
    "wei = F.softmax(wei, dim=-1)\n",
    "# wightened aggregation of the previous context (i.e. previos tokens)\n",
    "x_agr = wei @ x\n",
    "\n",
    "print(tril)\n",
    "print(wei)"
   ]
  },
  {
   "cell_type": "markdown",
   "metadata": {},
   "source": [
    "# Self attention mechanism\n",
    "\n",
    "Each token emits two vectors: query and key vectors.\n",
    "\n",
    "- Query what am I looking for \n",
    "- Key what do I contain\n",
    " "
   ]
  },
  {
   "cell_type": "code",
   "execution_count": 5,
   "metadata": {},
   "outputs": [
    {
     "name": "stdout",
     "output_type": "stream",
     "text": [
      "torch.Size([4, 8, 32])\n",
      "tensor([[ 2.0432,  0.3536, -1.2293, -0.7704, -0.9040, -0.7010,  0.6719,  0.5030,\n",
      "         -0.8689,  0.1290,  0.6432, -1.4434, -0.8084, -0.0971,  0.4020, -0.0624,\n",
      "         -0.5644, -0.8798, -1.0318, -0.3393, -0.3511, -0.6505, -1.8884,  0.3673,\n",
      "          0.2802,  1.2485,  2.0518, -1.4728,  1.6619, -1.2283, -0.1357,  0.5455],\n",
      "        [ 2.0141,  0.3463, -1.2036, -0.7369, -0.8787, -0.7117,  0.6694,  0.4901,\n",
      "         -0.8402,  0.1212,  0.6370, -1.4216, -0.8078, -0.1061,  0.3866, -0.0469,\n",
      "         -0.5625, -0.8481, -1.0406, -0.3185, -0.3498, -0.6262, -1.8810,  0.3752,\n",
      "          0.2908,  1.2451,  2.0329, -1.4735,  1.6322, -1.1828, -0.1164,  0.5229],\n",
      "        [ 0.9951,  0.3647, -0.8058, -0.9011,  0.4741, -0.5256,  0.0523,  0.5753,\n",
      "         -1.8102, -0.1692, -0.0524, -0.6945,  0.0931,  0.1007,  0.6411,  0.4191,\n",
      "         -1.4607, -0.5826, -0.1995,  0.3849, -0.5290,  0.0901, -1.1662,  0.6040,\n",
      "         -0.1256, -0.3199,  0.3977, -0.2008,  0.8341,  0.9137,  0.7768,  0.7315],\n",
      "        [ 0.1453,  0.1309, -0.0031,  0.1517,  1.1452, -0.8649,  0.0411,  0.1627,\n",
      "         -0.8326, -0.3661, -0.2164, -0.0846,  0.0421, -0.1922,  0.1425,  0.8277,\n",
      "         -1.3187,  0.3659, -0.4836,  0.9693, -0.4522,  0.7838, -0.9424,  0.8166,\n",
      "          0.2397, -0.2837, -0.0894, -0.3078, -0.0391,  2.1838,  1.2749,  0.0248],\n",
      "        [ 0.4951,  0.1322, -0.1456,  0.0475,  0.5416, -0.7909,  0.2707,  0.1492,\n",
      "         -0.4065, -0.1280, -0.0184, -0.5026, -0.2342, -0.1354,  0.0520,  0.5636,\n",
      "         -0.9036,  0.0445, -0.6303,  0.7267, -0.3164,  0.4772, -1.1596,  0.4488,\n",
      "          0.3642,  0.1787,  0.4857, -0.6482,  0.3708,  1.1972,  0.6982, -0.0396],\n",
      "        [ 0.1456, -0.1125,  0.3245, -0.0341,  0.0317, -0.4913,  0.5349, -0.0909,\n",
      "         -0.0355,  0.8478, -0.3476, -1.1089, -0.1397, -0.0509,  0.5919, -0.6336,\n",
      "         -0.7140, -0.4087,  0.7727, -0.1763,  0.3473,  0.1572,  0.1150, -0.1420,\n",
      "          0.0421,  0.7132, -0.0748, -0.3661,  0.2034,  0.8902, -0.1531,  0.1356],\n",
      "        [ 0.0195, -0.1244,  0.1296,  0.3292,  0.5861, -0.5570,  0.1111, -0.1355,\n",
      "          0.1331,  0.3161, -0.1859, -0.5808, -0.0081, -0.0786,  0.3483,  0.2555,\n",
      "         -0.7900,  0.1129, -0.0104,  0.3596, -0.0094,  0.6982, -0.5163,  0.0138,\n",
      "          0.1788,  0.0092, -0.0747, -0.3177, -0.0300,  1.2676,  0.5690, -0.2866],\n",
      "        [-0.2514, -0.3027,  0.6382,  0.0119, -0.2356, -0.2419,  0.6484, -0.1276,\n",
      "          0.6399,  0.7506, -0.7027, -0.9380, -0.1354,  0.2426,  0.0206, -0.4500,\n",
      "          0.0954, -0.8388,  1.0316,  0.1982,  0.3452,  0.4429,  0.3547, -0.8504,\n",
      "          0.6181,  0.5171, -0.2128, -0.0563,  0.0934,  0.6362, -0.6399,  0.0338]],\n",
      "       grad_fn=<SelectBackward0>)\n"
     ]
    }
   ],
   "source": [
    "B, T, C = 4, 8, 32 # batch, time, channels\n",
    "x = torch.randn(B, T, C)\n",
    "\n",
    "# Single head self-attention\n",
    "head_size = 16\n",
    "key = nn.Linear(C, head_size, bias=False)\n",
    "query = nn.Linear(C, head_size, bias=False)\n",
    "value = nn.Linear(C, head_size, bias=False)\n",
    "k = key(x)   # (B, T, 16)\n",
    "q = query(x) # (B, T, 16)\n",
    "wei = q @ k.transpose(-2, -1) * head_size**-0.5 # (B, T, 16) @ (B, 16, T) ---> (B, T, T)\n",
    "tril = torch.tril(torch.ones(T, T))\n",
    "wei = wei.masked_fill(tril == 0, float('-inf'))\n",
    "wei = F.softmax(wei, dim=-1)\n",
    "\n",
    "v = value(x)\n",
    "out = wei @ x\n",
    "\n",
    "print(out.shape)\n",
    "print(out[0])"
   ]
  },
  {
   "cell_type": "code",
   "execution_count": null,
   "metadata": {},
   "outputs": [],
   "source": []
  }
 ],
 "metadata": {
  "kernelspec": {
   "display_name": "bio-py",
   "language": "python",
   "name": "python3"
  },
  "language_info": {
   "codemirror_mode": {
    "name": "ipython",
    "version": 3
   },
   "file_extension": ".py",
   "mimetype": "text/x-python",
   "name": "python",
   "nbconvert_exporter": "python",
   "pygments_lexer": "ipython3",
   "version": "3.10.14"
  }
 },
 "nbformat": 4,
 "nbformat_minor": 2
}
